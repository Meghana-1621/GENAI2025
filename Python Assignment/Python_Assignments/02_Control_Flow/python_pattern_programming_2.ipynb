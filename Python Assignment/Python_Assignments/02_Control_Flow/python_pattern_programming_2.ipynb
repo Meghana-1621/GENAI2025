{
  "nbformat": 4,
  "nbformat_minor": 0,
  "metadata": {
    "colab": {
      "provenance": []
    },
    "kernelspec": {
      "name": "python3",
      "display_name": "Python 3"
    },
    "language_info": {
      "name": "python"
    }
  },
  "cells": [
    {
      "cell_type": "markdown",
      "source": [
        "Here we use i which controls how many letters are printed in each row"
      ],
      "metadata": {
        "id": "ze8QcWw-plxh"
      }
    },
    {
      "cell_type": "code",
      "source": [
        "for i in range(1,6):                      #outer loop runs for 5 times\n",
        "    for j in range (65,65+i):             #Inner loop: start with ASCII 65('A'),end by decreasing limit(71-i)\n",
        "        print(chr(j), end=\" \")\n",
        "\n",
        "    print()\n"
      ],
      "metadata": {
        "colab": {
          "base_uri": "https://localhost:8080/"
        },
        "id": "uYxm8uD7iMmI",
        "outputId": "5e26ad9d-69d7-4963-8bf0-7e3c3d39d068"
      },
      "execution_count": 73,
      "outputs": [
        {
          "output_type": "stream",
          "name": "stdout",
          "text": [
            "A \n",
            "A B \n",
            "A B C \n",
            "A B C D \n",
            "A B C D E \n"
          ]
        }
      ]
    },
    {
      "cell_type": "code",
      "source": [
        "for i in range(1,6):\n",
        "    for j in range (65,71-i):\n",
        "        print(chr(j), end=\" \")\n",
        "\n",
        "    print()\n",
        "\n"
      ],
      "metadata": {
        "colab": {
          "base_uri": "https://localhost:8080/"
        },
        "id": "G_O9GSFjiMy7",
        "outputId": "40d608c3-337a-4114-f6d6-af6561f6c9f8"
      },
      "execution_count": 74,
      "outputs": [
        {
          "output_type": "stream",
          "name": "stdout",
          "text": [
            "A B C D E \n",
            "A B C D \n",
            "A B C \n",
            "A B \n",
            "A \n"
          ]
        }
      ]
    },
    {
      "cell_type": "code",
      "source": [
        "\n",
        "for i in range(1,6):\n",
        "  print(i)\n",
        "  for j in range (65,71-i):\n",
        "        print(chr(j), end=\" \")\n",
        "\n",
        "  print(\"\\n\")\n"
      ],
      "metadata": {
        "colab": {
          "base_uri": "https://localhost:8080/"
        },
        "id": "89svsH_khRxm",
        "outputId": "57f9edc7-9222-4e5f-b47d-96a49dd7d109"
      },
      "execution_count": 60,
      "outputs": [
        {
          "output_type": "stream",
          "name": "stdout",
          "text": [
            "1\n",
            "A B C D E \n",
            "\n",
            "2\n",
            "A B C D \n",
            "\n",
            "3\n",
            "A B C \n",
            "\n",
            "4\n",
            "A B \n",
            "\n",
            "5\n",
            "A \n",
            "\n"
          ]
        }
      ]
    },
    {
      "cell_type": "code",
      "source": [
        "for i in range(1,6):\n",
        "  for j in range(65,71-i):\n",
        "    print(j)\n",
        "    print(chr(j),end=\" \")\n",
        ""
      ],
      "metadata": {
        "colab": {
          "base_uri": "https://localhost:8080/"
        },
        "id": "3AoLTvqhsD23",
        "outputId": "be869258-2d09-4319-8e57-3ef8d29f7904"
      },
      "execution_count": 79,
      "outputs": [
        {
          "output_type": "stream",
          "name": "stdout",
          "text": [
            "65\n",
            "A 66\n",
            "B 67\n",
            "C 68\n",
            "D 69\n",
            "E 65\n",
            "A 66\n",
            "B 67\n",
            "C 68\n",
            "D 65\n",
            "A 66\n",
            "B 67\n",
            "C 65\n",
            "A 66\n",
            "B 65\n",
            "A "
          ]
        }
      ]
    },
    {
      "cell_type": "code",
      "source": [
        "rows = 5\n",
        "for i in range(1, rows + 1):\n",
        "    print(\"*\" * i)"
      ],
      "metadata": {
        "colab": {
          "base_uri": "https://localhost:8080/"
        },
        "id": "4zIzMl1IsEHi",
        "outputId": "5e83a878-53f2-452e-ab8c-36393d146752"
      },
      "execution_count": 83,
      "outputs": [
        {
          "output_type": "stream",
          "name": "stdout",
          "text": [
            "*\n",
            "**\n",
            "***\n",
            "****\n",
            "*****\n"
          ]
        }
      ]
    },
    {
      "cell_type": "code",
      "source": [
        "rows = 5\n",
        "for i in range(5,0,-1):\n",
        "    print(\"*\" * i)"
      ],
      "metadata": {
        "colab": {
          "base_uri": "https://localhost:8080/"
        },
        "id": "58s81oYa5P72",
        "outputId": "fc8fde21-357b-46cc-990d-b05a9b43bee1"
      },
      "execution_count": 86,
      "outputs": [
        {
          "output_type": "stream",
          "name": "stdout",
          "text": [
            "*****\n",
            "****\n",
            "***\n",
            "**\n",
            "*\n"
          ]
        }
      ]
    },
    {
      "cell_type": "code",
      "source": [
        "rows = 5\n",
        "for i in range(1, rows + 1):\n",
        "    print(\" \" * (rows - i) + \"* \" *i)"
      ],
      "metadata": {
        "colab": {
          "base_uri": "https://localhost:8080/"
        },
        "id": "ElPg-vri6Rwq",
        "outputId": "b590c2e9-7558-48dd-fa73-0d1d8d0bd13d"
      },
      "execution_count": 94,
      "outputs": [
        {
          "output_type": "stream",
          "name": "stdout",
          "text": [
            "    * \n",
            "   * * \n",
            "  * * * \n",
            " * * * * \n",
            "* * * * * \n"
          ]
        }
      ]
    }
  ]
}