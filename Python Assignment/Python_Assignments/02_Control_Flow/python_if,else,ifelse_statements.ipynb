{
  "nbformat": 4,
  "nbformat_minor": 0,
  "metadata": {
    "colab": {
      "provenance": []
    },
    "kernelspec": {
      "name": "python3",
      "display_name": "Python 3"
    },
    "language_info": {
      "name": "python"
    }
  },
  "cells": [
    {
      "cell_type": "code",
      "execution_count": 1,
      "metadata": {
        "colab": {
          "base_uri": "https://localhost:8080/"
        },
        "id": "5dsFsDJz8KSL",
        "outputId": "a9dccd6c-8253-4e38-f432-9d45d6edd8a2"
      },
      "outputs": [
        {
          "output_type": "stream",
          "name": "stdout",
          "text": [
            "Greater than 5\n"
          ]
        }
      ],
      "source": [
        "# Example 1: Simple if\n",
        "x = 10\n",
        "if x > 5:\n",
        "    print(\"Greater than 5\")"
      ]
    },
    {
      "cell_type": "code",
      "source": [
        "# Example 2: if-else\n",
        "x = 3\n",
        "if x > 5:\n",
        "    print(\"Greater\")\n",
        "else:\n",
        "    print(\"Not greater\")\n"
      ],
      "metadata": {
        "colab": {
          "base_uri": "https://localhost:8080/"
        },
        "id": "SeynAW5x8LOY",
        "outputId": "a1f82adc-939c-453c-f4ba-d12cfd420e4e"
      },
      "execution_count": 2,
      "outputs": [
        {
          "output_type": "stream",
          "name": "stdout",
          "text": [
            "Not greater\n"
          ]
        }
      ]
    },
    {
      "cell_type": "code",
      "source": [
        "\n",
        "# Example 3: if-elif-else\n",
        "score = 85\n",
        "if score > 90:\n",
        "    print(\"A\")\n",
        "elif score > 80:\n",
        "    print(\"B\")\n",
        "else:\n",
        "    print(\"C\")\n"
      ],
      "metadata": {
        "colab": {
          "base_uri": "https://localhost:8080/"
        },
        "id": "jguusFPE8LRV",
        "outputId": "cd098b30-5f9c-486e-cd86-0e5c989438fb"
      },
      "execution_count": 3,
      "outputs": [
        {
          "output_type": "stream",
          "name": "stdout",
          "text": [
            "B\n"
          ]
        }
      ]
    },
    {
      "cell_type": "code",
      "source": [
        "# Example 4\n",
        "name = \"Alice\"\n",
        "if name == \"Alice\":\n",
        "    print(\"Welcome Alice\")"
      ],
      "metadata": {
        "colab": {
          "base_uri": "https://localhost:8080/"
        },
        "id": "Y1hpb4wt8LUT",
        "outputId": "b8a51fd4-0929-465a-913d-af51199d1fce"
      },
      "execution_count": 4,
      "outputs": [
        {
          "output_type": "stream",
          "name": "stdout",
          "text": [
            "Welcome Alice\n"
          ]
        }
      ]
    },
    {
      "cell_type": "code",
      "source": [
        "# Example 5\n",
        "age = 18\n",
        "if age >= 18:\n",
        "    print(\"Adult\")\n",
        "else:\n",
        "    print(\"Minor\")\n"
      ],
      "metadata": {
        "colab": {
          "base_uri": "https://localhost:8080/"
        },
        "id": "8l1x7Hts8LW3",
        "outputId": "19bfd23e-f073-476c-8224-8aac33e93171"
      },
      "execution_count": 5,
      "outputs": [
        {
          "output_type": "stream",
          "name": "stdout",
          "text": [
            "Adult\n"
          ]
        }
      ]
    },
    {
      "cell_type": "code",
      "source": [
        "\n",
        "# Example 6\n",
        "num = 0\n",
        "if num == 0:\n",
        "    print(\"Zero\")\n",
        "else:\n",
        "    print(\"Non-zero\")"
      ],
      "metadata": {
        "colab": {
          "base_uri": "https://localhost:8080/"
        },
        "id": "0Ym1SYtN8LZk",
        "outputId": "e1060b32-4c4c-4b65-8822-8c56cfad3322"
      },
      "execution_count": 6,
      "outputs": [
        {
          "output_type": "stream",
          "name": "stdout",
          "text": [
            "Zero\n"
          ]
        }
      ]
    },
    {
      "cell_type": "code",
      "source": [
        "# Example 7\n",
        "n = -5\n",
        "if n < 0:\n",
        "    print(\"Negative\")\n",
        "elif n == 0:\n",
        "    print(\"Zero\")\n",
        "else:\n",
        "    print(\"Positive\")"
      ],
      "metadata": {
        "colab": {
          "base_uri": "https://localhost:8080/"
        },
        "id": "YWJGhM6R8LcN",
        "outputId": "f40b923a-b896-431f-ab02-1439b99c197c"
      },
      "execution_count": 7,
      "outputs": [
        {
          "output_type": "stream",
          "name": "stdout",
          "text": [
            "Negative\n"
          ]
        }
      ]
    },
    {
      "cell_type": "code",
      "source": [
        "# Example 8\n",
        "temp = 30\n",
        "if temp > 25:\n",
        "    print(\"Hot\")\n",
        "else:\n",
        "    print(\"Cool\")\n"
      ],
      "metadata": {
        "colab": {
          "base_uri": "https://localhost:8080/"
        },
        "id": "nGi_n1A58Lev",
        "outputId": "8eb63fd8-74a2-4b2a-ac75-dd9edb604309"
      },
      "execution_count": 8,
      "outputs": [
        {
          "output_type": "stream",
          "name": "stdout",
          "text": [
            "Hot\n"
          ]
        }
      ]
    },
    {
      "cell_type": "code",
      "source": [
        "# Example 9\n",
        "language = \"Python\"\n",
        "if language == \"Python\":\n",
        "    print(\"Language matched\")"
      ],
      "metadata": {
        "colab": {
          "base_uri": "https://localhost:8080/"
        },
        "id": "GO2RyHJQ8Lhq",
        "outputId": "4cdfbffc-d60a-48dd-83cf-ed57f3a24529"
      },
      "execution_count": 9,
      "outputs": [
        {
          "output_type": "stream",
          "name": "stdout",
          "text": [
            "Language matched\n"
          ]
        }
      ]
    },
    {
      "cell_type": "code",
      "source": [
        "# Example 10\n",
        "marks = 65\n",
        "if marks >= 90:\n",
        "    print(\"Excellent\")\n",
        "elif marks >= 75:\n",
        "    print(\"Very Good\")\n",
        "elif marks >= 50:\n",
        "    print(\"Good\")\n",
        "else:\n",
        "    print(\"Fail\")"
      ],
      "metadata": {
        "colab": {
          "base_uri": "https://localhost:8080/"
        },
        "id": "B1OoirsE91w8",
        "outputId": "df8a1e13-60c9-474b-c9ad-b7fb37c28b1b"
      },
      "execution_count": 10,
      "outputs": [
        {
          "output_type": "stream",
          "name": "stdout",
          "text": [
            "Good\n"
          ]
        }
      ]
    },
    {
      "cell_type": "code",
      "source": [
        "# Example 11\n",
        "flag = True\n",
        "if flag:\n",
        "    print(\"Flag is True\")\n"
      ],
      "metadata": {
        "colab": {
          "base_uri": "https://localhost:8080/"
        },
        "id": "QDxz7oQP91zf",
        "outputId": "2346d31c-91e8-41af-ab15-00364b76a176"
      },
      "execution_count": 11,
      "outputs": [
        {
          "output_type": "stream",
          "name": "stdout",
          "text": [
            "Flag is True\n"
          ]
        }
      ]
    },
    {
      "cell_type": "code",
      "source": [
        "\n",
        "# Example 12\n",
        "a, b = 10, 20\n",
        "if a < b:\n",
        "    print(\"a is less than b\")\n"
      ],
      "metadata": {
        "colab": {
          "base_uri": "https://localhost:8080/"
        },
        "id": "lwD1Hikk-HzN",
        "outputId": "98771516-e7f2-415c-ac9d-15ef05d1e185"
      },
      "execution_count": 12,
      "outputs": [
        {
          "output_type": "stream",
          "name": "stdout",
          "text": [
            "a is less than b\n"
          ]
        }
      ]
    },
    {
      "cell_type": "code",
      "source": [
        "# Example 13\n",
        "x = 100\n",
        "if x % 2 == 0:\n",
        "    print(\"Even\")\n",
        "else:\n",
        "    print(\"Odd\")"
      ],
      "metadata": {
        "colab": {
          "base_uri": "https://localhost:8080/"
        },
        "id": "r5akD5Ba-H16",
        "outputId": "1f0513a9-0e1c-4800-d67c-24662e9fdf7f"
      },
      "execution_count": 13,
      "outputs": [
        {
          "output_type": "stream",
          "name": "stdout",
          "text": [
            "Even\n"
          ]
        }
      ]
    },
    {
      "cell_type": "code",
      "source": [
        "# Example 14\n",
        "grade = 'A'\n",
        "if grade == 'A':\n",
        "    print(\"Excellent\")\n",
        "elif grade == 'B':\n",
        "    print(\"Good\")\n",
        "else:\n",
        "    print(\"Average\")\n"
      ],
      "metadata": {
        "colab": {
          "base_uri": "https://localhost:8080/"
        },
        "id": "YsgGF2iU-H4q",
        "outputId": "bbb770d9-8f36-4237-d479-71a631c19dba"
      },
      "execution_count": 14,
      "outputs": [
        {
          "output_type": "stream",
          "name": "stdout",
          "text": [
            "Excellent\n"
          ]
        }
      ]
    },
    {
      "cell_type": "code",
      "source": [
        "# Example 15\n",
        "price = 120\n",
        "if price > 100:\n",
        "    print(\"Too expensive\")"
      ],
      "metadata": {
        "colab": {
          "base_uri": "https://localhost:8080/"
        },
        "id": "f4tJsaRl-H7Z",
        "outputId": "0c9cf7c9-5478-4043-91c2-39b7d5888c0e"
      },
      "execution_count": 15,
      "outputs": [
        {
          "output_type": "stream",
          "name": "stdout",
          "text": [
            "Too expensive\n"
          ]
        }
      ]
    },
    {
      "cell_type": "code",
      "source": [
        "# Example 16\n",
        "rain = False\n",
        "if rain:\n",
        "    print(\"Take umbrella\")\n",
        "else:\n",
        "    print(\"No need\")"
      ],
      "metadata": {
        "colab": {
          "base_uri": "https://localhost:8080/"
        },
        "id": "apR-wr3G-H9x",
        "outputId": "c75c4c5a-8107-4e89-a732-2fef8ffad9aa"
      },
      "execution_count": 16,
      "outputs": [
        {
          "output_type": "stream",
          "name": "stdout",
          "text": [
            "No need\n"
          ]
        }
      ]
    },
    {
      "cell_type": "code",
      "source": [
        "# Example 17\n",
        "fruit = \"apple\"\n",
        "if fruit in [\"apple\", \"banana\", \"mango\"]:\n",
        "    print(\"Available\")"
      ],
      "metadata": {
        "colab": {
          "base_uri": "https://localhost:8080/"
        },
        "id": "eNvjP-ZV-IBO",
        "outputId": "fc95e547-70f3-4135-88b7-a056bb42608c"
      },
      "execution_count": 17,
      "outputs": [
        {
          "output_type": "stream",
          "name": "stdout",
          "text": [
            "Available\n"
          ]
        }
      ]
    },
    {
      "cell_type": "code",
      "source": [
        "\n",
        "# Example 18\n",
        "x = 25\n",
        "if x > 10 and x < 50:\n",
        "    print(\"In range\")\n"
      ],
      "metadata": {
        "colab": {
          "base_uri": "https://localhost:8080/"
        },
        "id": "El06xfut9115",
        "outputId": "d63d3a1f-012e-4f65-93e7-9ba7d5246904"
      },
      "execution_count": 18,
      "outputs": [
        {
          "output_type": "stream",
          "name": "stdout",
          "text": [
            "In range\n"
          ]
        }
      ]
    },
    {
      "cell_type": "code",
      "source": [
        "# Example 19\n",
        "balance = 500\n",
        "withdraw = 600\n",
        "if balance >= withdraw:\n",
        "    print(\"Withdraw successful\")\n",
        "else:\n",
        "    print(\"Insufficient balance\")"
      ],
      "metadata": {
        "colab": {
          "base_uri": "https://localhost:8080/"
        },
        "id": "r05ULA7b915d",
        "outputId": "582519c3-50df-46f7-e650-691a1294544c"
      },
      "execution_count": 19,
      "outputs": [
        {
          "output_type": "stream",
          "name": "stdout",
          "text": [
            "Insufficient balance\n"
          ]
        }
      ]
    },
    {
      "cell_type": "code",
      "source": [
        "\n",
        "# Example 20\n",
        "char = 'z'\n",
        "if char.isalpha():\n",
        "    print(\"Alphabet\")"
      ],
      "metadata": {
        "colab": {
          "base_uri": "https://localhost:8080/"
        },
        "id": "s2RRbf8d_9I6",
        "outputId": "4d9ce03e-1524-45ca-aa6f-96ddea7246ff"
      },
      "execution_count": 20,
      "outputs": [
        {
          "output_type": "stream",
          "name": "stdout",
          "text": [
            "Alphabet\n"
          ]
        }
      ]
    },
    {
      "cell_type": "code",
      "source": [
        "\n",
        "# Example 21\n",
        "password = \"admin123\"\n",
        "if len(password) >= 8:\n",
        "    print(\"Valid Password\")"
      ],
      "metadata": {
        "colab": {
          "base_uri": "https://localhost:8080/"
        },
        "id": "scyOqhT88Lj4",
        "outputId": "96c94c79-73ff-452b-d018-6964e4aafb03"
      },
      "execution_count": 21,
      "outputs": [
        {
          "output_type": "stream",
          "name": "stdout",
          "text": [
            "Valid Password\n"
          ]
        }
      ]
    },
    {
      "cell_type": "code",
      "source": [
        "\n",
        "# Example 22\n",
        "x = 0\n",
        "if not x:\n",
        "    print(\"x is zero\")\n"
      ],
      "metadata": {
        "colab": {
          "base_uri": "https://localhost:8080/"
        },
        "id": "VJgsy3LrAHbz",
        "outputId": "1c5f6d89-f42b-4084-a093-d8f28d0cd2c3"
      },
      "execution_count": 22,
      "outputs": [
        {
          "output_type": "stream",
          "name": "stdout",
          "text": [
            "x is zero\n"
          ]
        }
      ]
    },
    {
      "cell_type": "code",
      "source": [
        "\n",
        "# Example 23\n",
        "user = \"admin\"\n",
        "if user == \"admin\":\n",
        "    print(\"Access granted\")"
      ],
      "metadata": {
        "colab": {
          "base_uri": "https://localhost:8080/"
        },
        "id": "0ekEkPTWAHem",
        "outputId": "bb8798af-f9f4-445b-e216-5480919e66f0"
      },
      "execution_count": 23,
      "outputs": [
        {
          "output_type": "stream",
          "name": "stdout",
          "text": [
            "Access granted\n"
          ]
        }
      ]
    },
    {
      "cell_type": "code",
      "source": [
        "# Example 24\n",
        "x = 15\n",
        "if x % 5 == 0:\n",
        "    print(\"Divisible by 5\")"
      ],
      "metadata": {
        "colab": {
          "base_uri": "https://localhost:8080/"
        },
        "id": "GyxHuwU5AHhO",
        "outputId": "c00eb60c-ea96-470f-d282-fc62f2d155d4"
      },
      "execution_count": 24,
      "outputs": [
        {
          "output_type": "stream",
          "name": "stdout",
          "text": [
            "Divisible by 5\n"
          ]
        }
      ]
    },
    {
      "cell_type": "code",
      "source": [
        "\n",
        "# Example 25\n",
        "s = \"OpenAI\"\n",
        "if s.startswith(\"O\"):\n",
        "    print(\"Starts with O\")\n"
      ],
      "metadata": {
        "colab": {
          "base_uri": "https://localhost:8080/"
        },
        "id": "U4jbRfW7AHjk",
        "outputId": "aabc7cfe-1789-4c83-b50c-16231524324c"
      },
      "execution_count": 25,
      "outputs": [
        {
          "output_type": "stream",
          "name": "stdout",
          "text": [
            "Starts with O\n"
          ]
        }
      ]
    },
    {
      "cell_type": "code",
      "source": [
        "\n",
        "# Example 26\n",
        "grade = 60\n",
        "if grade >= 50:\n",
        "    print(\"Pass\")\n",
        "else:\n",
        "    print(\"Fail\")\n"
      ],
      "metadata": {
        "colab": {
          "base_uri": "https://localhost:8080/"
        },
        "id": "P4ZocMIwAjh7",
        "outputId": "c86b96a9-d94d-47b2-89f2-255678a164f3"
      },
      "execution_count": 26,
      "outputs": [
        {
          "output_type": "stream",
          "name": "stdout",
          "text": [
            "Pass\n"
          ]
        }
      ]
    },
    {
      "cell_type": "code",
      "source": [
        "\n",
        "# Example 27\n",
        "time = 14\n",
        "if time < 12:\n",
        "    print(\"Morning\")\n",
        "elif time < 18:\n",
        "    print(\"Afternoon\")\n",
        "else:\n",
        "    print(\"Evening\")\n"
      ],
      "metadata": {
        "colab": {
          "base_uri": "https://localhost:8080/"
        },
        "id": "CRW9f7HRAjkd",
        "outputId": "5e572e10-7738-4b30-9415-b8db0f33ccd5"
      },
      "execution_count": 27,
      "outputs": [
        {
          "output_type": "stream",
          "name": "stdout",
          "text": [
            "Afternoon\n"
          ]
        }
      ]
    },
    {
      "cell_type": "code",
      "source": [
        "\n",
        "# Example 28\n",
        "temp = 0\n",
        "if temp <= 0:\n",
        "    print(\"Freezing\")"
      ],
      "metadata": {
        "colab": {
          "base_uri": "https://localhost:8080/"
        },
        "id": "n80uhZEdAjnD",
        "outputId": "5b43fdf3-d8b9-4fa9-dba1-9bd933cd86b1"
      },
      "execution_count": 28,
      "outputs": [
        {
          "output_type": "stream",
          "name": "stdout",
          "text": [
            "Freezing\n"
          ]
        }
      ]
    },
    {
      "cell_type": "code",
      "source": [
        "\n",
        "# Example 29\n",
        "value = 10\n",
        "if value:\n",
        "    print(\"Truthy value\")\n"
      ],
      "metadata": {
        "colab": {
          "base_uri": "https://localhost:8080/"
        },
        "id": "W3P7pAaeAjpq",
        "outputId": "a997e258-583b-477b-cce3-265cb8e04cc4"
      },
      "execution_count": 29,
      "outputs": [
        {
          "output_type": "stream",
          "name": "stdout",
          "text": [
            "Truthy value\n"
          ]
        }
      ]
    },
    {
      "cell_type": "code",
      "source": [
        "\n",
        "# Example 30\n",
        "n = 21\n",
        "if n % 7 == 0:\n",
        "    print(\"Divisible by 7\")\n"
      ],
      "metadata": {
        "colab": {
          "base_uri": "https://localhost:8080/"
        },
        "id": "0XiJPCqpAjsQ",
        "outputId": "25bfacd1-eab1-46ab-cc79-6d1a26f0aafd"
      },
      "execution_count": 30,
      "outputs": [
        {
          "output_type": "stream",
          "name": "stdout",
          "text": [
            "Divisible by 7\n"
          ]
        }
      ]
    },
    {
      "cell_type": "code",
      "source": [
        "\n",
        "# Example 31\n",
        "status = \"Success\"\n",
        "if status == \"Success\":\n",
        "    print(\"Operation successful\")\n"
      ],
      "metadata": {
        "colab": {
          "base_uri": "https://localhost:8080/"
        },
        "id": "-sqJFv0vAju4",
        "outputId": "3897eabf-0e86-4650-b076-d471dd8463a9"
      },
      "execution_count": 31,
      "outputs": [
        {
          "output_type": "stream",
          "name": "stdout",
          "text": [
            "Operation successful\n"
          ]
        }
      ]
    },
    {
      "cell_type": "code",
      "source": [
        "\n",
        "# Example 32\n",
        "gender = \"female\"\n",
        "if gender.lower() == \"female\":\n",
        "    print(\"Hello Madam\")\n"
      ],
      "metadata": {
        "colab": {
          "base_uri": "https://localhost:8080/"
        },
        "id": "5VvIwd1tAjxw",
        "outputId": "7b286ba8-cfda-4568-eab3-ba30cf960251"
      },
      "execution_count": 32,
      "outputs": [
        {
          "output_type": "stream",
          "name": "stdout",
          "text": [
            "Hello Madam\n"
          ]
        }
      ]
    },
    {
      "cell_type": "code",
      "source": [
        "\n",
        "# Example 33\n",
        "year = 2024\n",
        "if (year % 4 == 0 and year % 100 != 0) or (year % 400 == 0):\n",
        "    print(\"Leap year\")"
      ],
      "metadata": {
        "colab": {
          "base_uri": "https://localhost:8080/"
        },
        "id": "Yu-a4JKpAjz1",
        "outputId": "429eb104-2901-4195-b9f6-88b37debfcb7"
      },
      "execution_count": 33,
      "outputs": [
        {
          "output_type": "stream",
          "name": "stdout",
          "text": [
            "Leap year\n"
          ]
        }
      ]
    },
    {
      "cell_type": "code",
      "source": [
        "\n",
        "# Example 34\n",
        "age = 5\n",
        "if age < 13:\n",
        "    print(\"Child\")\n",
        "elif age < 20:\n",
        "    print(\"Teen\")\n",
        "else:\n",
        "    print(\"Adult\")"
      ],
      "metadata": {
        "colab": {
          "base_uri": "https://localhost:8080/"
        },
        "id": "gw0XXynBAj2Z",
        "outputId": "8b7f955b-d30b-4fb9-dbb6-060a6cf88a2b"
      },
      "execution_count": 34,
      "outputs": [
        {
          "output_type": "stream",
          "name": "stdout",
          "text": [
            "Child\n"
          ]
        }
      ]
    },
    {
      "cell_type": "code",
      "source": [
        "\n",
        "# Example 35\n",
        "speed = 80\n",
        "if speed > 60:\n",
        "    print(\"Over speed\")"
      ],
      "metadata": {
        "colab": {
          "base_uri": "https://localhost:8080/"
        },
        "id": "Re49mifNAj5K",
        "outputId": "1a98441d-c7ea-4a0b-e8c3-a2174e048a92"
      },
      "execution_count": 35,
      "outputs": [
        {
          "output_type": "stream",
          "name": "stdout",
          "text": [
            "Over speed\n"
          ]
        }
      ]
    },
    {
      "cell_type": "code",
      "source": [
        "\n",
        "# Example 36\n",
        "income = 45000\n",
        "if income < 50000:\n",
        "    print(\"Low income\")\n",
        "else:\n",
        "    print(\"Good income\")\n"
      ],
      "metadata": {
        "colab": {
          "base_uri": "https://localhost:8080/"
        },
        "id": "yFnywlNIAj7s",
        "outputId": "73db43b1-424d-4a73-b651-c416045e1dbb"
      },
      "execution_count": 36,
      "outputs": [
        {
          "output_type": "stream",
          "name": "stdout",
          "text": [
            "Low income\n"
          ]
        }
      ]
    },
    {
      "cell_type": "code",
      "source": [
        "\n",
        "# Example 37\n",
        "height = 180\n",
        "if height > 170:\n",
        "    print(\"Tall\")"
      ],
      "metadata": {
        "colab": {
          "base_uri": "https://localhost:8080/"
        },
        "id": "DuOER7LCAj-R",
        "outputId": "e81fa0d1-da1e-4ee9-c098-b9b0d6596b12"
      },
      "execution_count": 37,
      "outputs": [
        {
          "output_type": "stream",
          "name": "stdout",
          "text": [
            "Tall\n"
          ]
        }
      ]
    },
    {
      "cell_type": "code",
      "source": [
        "\n",
        "# Example 38\n",
        "weight = 70\n",
        "if weight < 60:\n",
        "    print(\"Underweight\")\n",
        "elif weight <= 80:\n",
        "    print(\"Normal\")\n",
        "else:\n",
        "    print(\"Overweight\")"
      ],
      "metadata": {
        "colab": {
          "base_uri": "https://localhost:8080/"
        },
        "id": "3a651sM_AkAq",
        "outputId": "2bca5555-f70d-42ce-d45c-c2fbf1819082"
      },
      "execution_count": 38,
      "outputs": [
        {
          "output_type": "stream",
          "name": "stdout",
          "text": [
            "Normal\n"
          ]
        }
      ]
    },
    {
      "cell_type": "code",
      "source": [
        "\n",
        "# Example 39\n",
        "letter = 'a'\n",
        "if letter in 'aeiou':\n",
        "    print(\"Vowel\")\n",
        "else:\n",
        "    print(\"Consonant\")"
      ],
      "metadata": {
        "colab": {
          "base_uri": "https://localhost:8080/"
        },
        "id": "SFow_Kd6AkDM",
        "outputId": "4455e0ff-aee5-48dc-a942-e56eeff5683e"
      },
      "execution_count": 39,
      "outputs": [
        {
          "output_type": "stream",
          "name": "stdout",
          "text": [
            "Vowel\n"
          ]
        }
      ]
    },
    {
      "cell_type": "code",
      "source": [
        "\n",
        "# Example 40\n",
        "x = 10\n",
        "if x != 0:\n",
        "    print(\"Not zero\")"
      ],
      "metadata": {
        "colab": {
          "base_uri": "https://localhost:8080/"
        },
        "id": "Q0UeSc6wAkFV",
        "outputId": "a8129263-ee23-448c-e141-143538ec0ce5"
      },
      "execution_count": 40,
      "outputs": [
        {
          "output_type": "stream",
          "name": "stdout",
          "text": [
            "Not zero\n"
          ]
        }
      ]
    },
    {
      "cell_type": "code",
      "source": [
        "\n",
        "# Example 41\n",
        "count = 0\n",
        "if count == 0:\n",
        "    print(\"Empty\")"
      ],
      "metadata": {
        "colab": {
          "base_uri": "https://localhost:8080/"
        },
        "id": "pHH9-PoIAkIs",
        "outputId": "420cf96a-55f6-46ef-e4ca-4b9e668d2abc"
      },
      "execution_count": 41,
      "outputs": [
        {
          "output_type": "stream",
          "name": "stdout",
          "text": [
            "Empty\n"
          ]
        }
      ]
    },
    {
      "cell_type": "code",
      "source": [
        "# Example 42\n",
        "role = \"manager\"\n",
        "if role == \"admin\":\n",
        "    print(\"Admin access\")\n",
        "elif role == \"manager\":\n",
        "    print(\"Manager access\")\n",
        "else:\n",
        "    print(\"Guest access\")"
      ],
      "metadata": {
        "colab": {
          "base_uri": "https://localhost:8080/"
        },
        "id": "uuvs8J6tB4lj",
        "outputId": "a123b15c-317b-4ed8-fb94-80778bcd78fc"
      },
      "execution_count": 42,
      "outputs": [
        {
          "output_type": "stream",
          "name": "stdout",
          "text": [
            "Manager access\n"
          ]
        }
      ]
    },
    {
      "cell_type": "code",
      "source": [
        "\n",
        "# Example 43\n",
        "day = \"Sunday\"\n",
        "if day == \"Sunday\":\n",
        "    print(\"Holiday\")"
      ],
      "metadata": {
        "colab": {
          "base_uri": "https://localhost:8080/"
        },
        "id": "eySSgRiBB4oM",
        "outputId": "c19aecd8-9975-4bb7-cce7-822bc41bd88e"
      },
      "execution_count": 43,
      "outputs": [
        {
          "output_type": "stream",
          "name": "stdout",
          "text": [
            "Holiday\n"
          ]
        }
      ]
    },
    {
      "cell_type": "code",
      "source": [
        "\n",
        "# Example 44\n",
        "email = \"user@example.com\"\n",
        "if \"@\" in email:\n",
        "    print(\"Valid email\")\n"
      ],
      "metadata": {
        "colab": {
          "base_uri": "https://localhost:8080/"
        },
        "id": "B1cVCr8AB4q-",
        "outputId": "616c1462-4b1f-404a-f66c-29b256257c1b"
      },
      "execution_count": 44,
      "outputs": [
        {
          "output_type": "stream",
          "name": "stdout",
          "text": [
            "Valid email\n"
          ]
        }
      ]
    },
    {
      "cell_type": "code",
      "source": [
        "\n",
        "# Example 45\n",
        "x = 9\n",
        "if x in [1, 3, 5, 7, 9]:\n",
        "    print(\"Odd single-digit\")"
      ],
      "metadata": {
        "colab": {
          "base_uri": "https://localhost:8080/"
        },
        "id": "66GTrFlSB4un",
        "outputId": "c1497463-5808-4e7c-dd6c-af1b79644d21"
      },
      "execution_count": 45,
      "outputs": [
        {
          "output_type": "stream",
          "name": "stdout",
          "text": [
            "Odd single-digit\n"
          ]
        }
      ]
    },
    {
      "cell_type": "code",
      "source": [
        "\n",
        "# Example 46\n",
        "celsius = 37\n",
        "if celsius >= 37:\n",
        "    print(\"Fever\")\n"
      ],
      "metadata": {
        "colab": {
          "base_uri": "https://localhost:8080/"
        },
        "id": "jbfbWJDzAHm9",
        "outputId": "766695a0-1a1d-4e51-b38f-0778846af661"
      },
      "execution_count": 46,
      "outputs": [
        {
          "output_type": "stream",
          "name": "stdout",
          "text": [
            "Fever\n"
          ]
        }
      ]
    },
    {
      "cell_type": "code",
      "source": [
        "# Example 47\n",
        "n = 50\n",
        "if n > 100:\n",
        "    print(\"Huge\")\n",
        "else:\n",
        "    print(\"Moderate or Small\")"
      ],
      "metadata": {
        "colab": {
          "base_uri": "https://localhost:8080/"
        },
        "id": "O6qQzWEkCLye",
        "outputId": "1eabd674-37b6-4055-c236-3c14000f1daf"
      },
      "execution_count": 47,
      "outputs": [
        {
          "output_type": "stream",
          "name": "stdout",
          "text": [
            "Moderate or Small\n"
          ]
        }
      ]
    },
    {
      "cell_type": "code",
      "source": [
        "\n",
        "# Example 48\n",
        "x, y = 8, 9\n",
        "if x == y:\n",
        "    print(\"Equal\")\n",
        "else:\n",
        "    print(\"Not equal\")\n"
      ],
      "metadata": {
        "colab": {
          "base_uri": "https://localhost:8080/"
        },
        "id": "_tyJFXXmCL9O",
        "outputId": "8b1d3af2-c9f2-4819-f104-2a5b1573bba3"
      },
      "execution_count": 48,
      "outputs": [
        {
          "output_type": "stream",
          "name": "stdout",
          "text": [
            "Not equal\n"
          ]
        }
      ]
    },
    {
      "cell_type": "code",
      "source": [
        "# Example 49\n",
        "score = 55\n",
        "if score >= 90:\n",
        "    print(\"A\")\n",
        "elif score >= 75:\n",
        "    print(\"B\")\n",
        "elif score >= 60:\n",
        "    print(\"C\")\n",
        "elif score >= 50:\n",
        "    print(\"D\")\n",
        "else:\n",
        "    print(\"F\")"
      ],
      "metadata": {
        "colab": {
          "base_uri": "https://localhost:8080/"
        },
        "id": "UpmUSfsO8LnY",
        "outputId": "cc90d07a-5313-4e58-f775-5bdaf9dd19ec"
      },
      "execution_count": 49,
      "outputs": [
        {
          "output_type": "stream",
          "name": "stdout",
          "text": [
            "D\n"
          ]
        }
      ]
    },
    {
      "cell_type": "code",
      "source": [
        "\n",
        "# Example 50\n",
        "logged_in = True\n",
        "if logged_in:\n",
        "    print(\"Dashboard\")\n",
        "else:\n",
        "    print(\"Login first\")"
      ],
      "metadata": {
        "colab": {
          "base_uri": "https://localhost:8080/"
        },
        "id": "nfJl5Ey6CZGb",
        "outputId": "6e73089b-de30-49b1-e697-2719b230161d"
      },
      "execution_count": 50,
      "outputs": [
        {
          "output_type": "stream",
          "name": "stdout",
          "text": [
            "Dashboard\n"
          ]
        }
      ]
    }
  ]
}