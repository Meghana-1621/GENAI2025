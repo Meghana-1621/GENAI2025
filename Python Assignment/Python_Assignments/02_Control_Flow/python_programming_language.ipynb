{
  "nbformat": 4,
  "nbformat_minor": 0,
  "metadata": {
    "colab": {
      "provenance": []
    },
    "kernelspec": {
      "name": "python3",
      "display_name": "Python 3"
    },
    "language_info": {
      "name": "python"
    }
  },
  "cells": [
    {
      "cell_type": "code",
      "execution_count": 18,
      "metadata": {
        "colab": {
          "base_uri": "https://localhost:8080/"
        },
        "id": "OBw-wZHwwlaB",
        "outputId": "1d70a70d-db5b-412e-905a-ac8a3b3cbddd"
      },
      "outputs": [
        {
          "output_type": "stream",
          "name": "stdout",
          "text": [
            "\n",
            "2 \n",
            "2 3 \n",
            "2 3 4 \n",
            "2 3 4 5 \n",
            "2 3 4 5 6 \n"
          ]
        }
      ],
      "source": [
        "for i in range(2,8):\n",
        "  for j in range(2,i):\n",
        "    print(j, end=\" \")\n",
        "  print()\n"
      ]
    },
    {
      "cell_type": "code",
      "source": [
        "for i in range(71, 75):\n",
        "    for j in range(71,i):\n",
        "        print(chr(j), end=\" \")\n",
        "    print()"
      ],
      "metadata": {
        "colab": {
          "base_uri": "https://localhost:8080/"
        },
        "id": "DcId80uxwoFz",
        "outputId": "79c6438a-62b6-4030-f190-a1cb0ec95092"
      },
      "execution_count": 20,
      "outputs": [
        {
          "output_type": "stream",
          "name": "stdout",
          "text": [
            "\n",
            "G \n",
            "G H \n",
            "G H I \n"
          ]
        }
      ]
    },
    {
      "cell_type": "code",
      "source": [
        "for i in range(1,5):\n",
        "    print(\"*\"*i, end=\"\\n\")"
      ],
      "metadata": {
        "colab": {
          "base_uri": "https://localhost:8080/"
        },
        "id": "sRKVLFdCwoHZ",
        "outputId": "d16c684b-a5d7-4df0-90c1-a924fd71ce33"
      },
      "execution_count": 44,
      "outputs": [
        {
          "output_type": "stream",
          "name": "stdout",
          "text": [
            "*\n",
            "**\n",
            "***\n",
            "****\n"
          ]
        }
      ]
    },
    {
      "cell_type": "code",
      "source": [
        "\n",
        "for i in range(3,9):\n",
        "    for j in range(0,i):\n",
        "        print(i, end=\" \")\n",
        "    print()\n",
        "\n"
      ],
      "metadata": {
        "colab": {
          "base_uri": "https://localhost:8080/"
        },
        "id": "vBo5k6d1woKR",
        "outputId": "e2a870b4-c8fc-47be-8c85-351cf582febd"
      },
      "execution_count": 23,
      "outputs": [
        {
          "output_type": "stream",
          "name": "stdout",
          "text": [
            "3 3 3 \n",
            "4 4 4 4 \n",
            "5 5 5 5 5 \n",
            "6 6 6 6 6 6 \n",
            "7 7 7 7 7 7 7 \n",
            "8 8 8 8 8 8 8 8 \n"
          ]
        }
      ]
    },
    {
      "cell_type": "code",
      "source": [
        "x=1\n",
        "for i in range(66,73):\n",
        "  print(chr (i)*x, end=\"\\n\")\n",
        "  x=x+1"
      ],
      "metadata": {
        "colab": {
          "base_uri": "https://localhost:8080/"
        },
        "id": "YmBuhPsDwoNP",
        "outputId": "12334438-65be-4ac7-c2d5-d35a1ea4eacd"
      },
      "execution_count": 24,
      "outputs": [
        {
          "output_type": "stream",
          "name": "stdout",
          "text": [
            "B\n",
            "CC\n",
            "DDD\n",
            "EEEE\n",
            "FFFFF\n",
            "GGGGGG\n",
            "HHHHHHH\n"
          ]
        }
      ]
    },
    {
      "cell_type": "code",
      "source": [
        "\n",
        "x=1\n",
        "for i in range(5,0,-1):\n",
        "    print(\" \"*i,x*\"*\")\n",
        "    x=x+1"
      ],
      "metadata": {
        "colab": {
          "base_uri": "https://localhost:8080/"
        },
        "id": "bmp7alNRwSok",
        "outputId": "0166651f-1df7-44be-eee5-48d3f1b2d1d8"
      },
      "execution_count": 25,
      "outputs": [
        {
          "output_type": "stream",
          "name": "stdout",
          "text": [
            "      *\n",
            "     **\n",
            "    ***\n",
            "   ****\n",
            "  *****\n"
          ]
        }
      ]
    },
    {
      "cell_type": "code",
      "source": [
        "for i in range(1,13,2):\n",
        "    print((i*\"*\").center(12,\" \"))\n"
      ],
      "metadata": {
        "colab": {
          "base_uri": "https://localhost:8080/"
        },
        "id": "kr1Jyh9dwS3P",
        "outputId": "21308503-be65-4b07-8cbe-637c685b9fc4"
      },
      "execution_count": 30,
      "outputs": [
        {
          "output_type": "stream",
          "name": "stdout",
          "text": [
            "     *      \n",
            "    ***     \n",
            "   *****    \n",
            "  *******   \n",
            " *********  \n",
            "*********** \n"
          ]
        }
      ]
    },
    {
      "cell_type": "code",
      "source": [
        "\n",
        "s=\" \"\n",
        "for j in range(1,6):\n",
        "    s+=f\"{j}\"+\" \"\n",
        "    print(s.center(11, \" \"))\n",
        "s=\" \""
      ],
      "metadata": {
        "colab": {
          "base_uri": "https://localhost:8080/"
        },
        "id": "YRSpkN2mwS64",
        "outputId": "285d93f3-26b7-4d0b-df4e-ea144b5e635a"
      },
      "execution_count": 35,
      "outputs": [
        {
          "output_type": "stream",
          "name": "stdout",
          "text": [
            "     1     \n",
            "    1 2    \n",
            "   1 2 3   \n",
            "  1 2 3 4  \n",
            " 1 2 3 4 5 \n"
          ]
        }
      ]
    },
    {
      "cell_type": "code",
      "source": [
        "\n",
        "s=\" \"\n",
        "for j in range(5,0,-1):\n",
        "    s+=f\"{j}\"+\" \"\n",
        "    print(s.center(12, \" \"))\n",
        "s=\" \"\n",
        ""
      ],
      "metadata": {
        "colab": {
          "base_uri": "https://localhost:8080/"
        },
        "id": "zeh76WIf1fdg",
        "outputId": "e5dc8637-5074-4690-8c77-bf370effc688"
      },
      "execution_count": 39,
      "outputs": [
        {
          "output_type": "stream",
          "name": "stdout",
          "text": [
            "     5      \n",
            "    5 4     \n",
            "   5 4 3    \n",
            "  5 4 3 2   \n",
            " 5 4 3 2 1  \n"
          ]
        }
      ]
    },
    {
      "cell_type": "code",
      "source": [
        "\n",
        "x=\"\"\n",
        "for i in range(65,71):\n",
        "        x=x+chr(i)+\" \"\n",
        "        print(x.center(12,\" \"))\n",
        "        print()"
      ],
      "metadata": {
        "colab": {
          "base_uri": "https://localhost:8080/"
        },
        "id": "qDsopJBt1fhB",
        "outputId": "8f2ef5ab-1f7a-48a1-a6b7-2890c4840f4a"
      },
      "execution_count": 43,
      "outputs": [
        {
          "output_type": "stream",
          "name": "stdout",
          "text": [
            "     A      \n",
            "\n",
            "    A B     \n",
            "\n",
            "   A B C    \n",
            "\n",
            "  A B C D   \n",
            "\n",
            " A B C D E  \n",
            "\n",
            "A B C D E F \n",
            "\n"
          ]
        }
      ]
    },
    {
      "cell_type": "code",
      "source": [
        "\n",
        "x=\"\"\n",
        "for i in range(70,64,-1):\n",
        "        x=x+chr(i)+\" \"\n",
        "        print(x.center(12,\" \"))\n",
        "        print(\"\")"
      ],
      "metadata": {
        "colab": {
          "base_uri": "https://localhost:8080/"
        },
        "id": "C6hlv5-qwoQB",
        "outputId": "2fe82fd9-e694-4e52-a440-456f1438f352"
      },
      "execution_count": 45,
      "outputs": [
        {
          "output_type": "stream",
          "name": "stdout",
          "text": [
            "     F      \n",
            "\n",
            "    F E     \n",
            "\n",
            "   F E D    \n",
            "\n",
            "  F E D C   \n",
            "\n",
            " F E D C B  \n",
            "\n",
            "F E D C B A \n",
            "\n"
          ]
        }
      ]
    },
    {
      "cell_type": "code",
      "source": [
        "for i in range(1,10,3):\n",
        "    str=\"*\"*i\n",
        "    print(str.center(12, \" \"))"
      ],
      "metadata": {
        "colab": {
          "base_uri": "https://localhost:8080/"
        },
        "id": "5D78FoAT2QN9",
        "outputId": "0fbea285-f8a7-48f8-d094-9b1782c4310f"
      },
      "execution_count": 49,
      "outputs": [
        {
          "output_type": "stream",
          "name": "stdout",
          "text": [
            "     *      \n",
            "    ****    \n",
            "  *******   \n"
          ]
        }
      ]
    },
    {
      "cell_type": "code",
      "source": [
        "for i in range(6,0,-1):\n",
        "    for j in range (1,i):\n",
        "        print(j, end=\" \")\n",
        "\n",
        "    print(\"\\n\")\n",
        ""
      ],
      "metadata": {
        "colab": {
          "base_uri": "https://localhost:8080/"
        },
        "id": "zI3ZVVsC2QeH",
        "outputId": "ef18d487-3658-449e-df82-013d18a8ed6f"
      },
      "execution_count": 62,
      "outputs": [
        {
          "output_type": "stream",
          "name": "stdout",
          "text": [
            "1 2 3 4 5 \n",
            "\n",
            "1 2 3 4 \n",
            "\n",
            "1 2 3 \n",
            "\n",
            "1 2 \n",
            "\n",
            "1 \n",
            "\n",
            "\n",
            "\n"
          ]
        }
      ]
    },
    {
      "cell_type": "code",
      "source": [
        "x=5\n",
        "for i in range(5,0,-1):\n",
        "    for j in range (i,0,-1):\n",
        "        print(x, end=\" \")\n",
        "        x=x-1\n",
        "\n",
        "    print(\"\\n\")\n",
        "    x=5"
      ],
      "metadata": {
        "colab": {
          "base_uri": "https://localhost:8080/"
        },
        "id": "IQM7YgZb4_g4",
        "outputId": "af1a2acc-1029-4fd9-e847-b2b6b8ccc2dc"
      },
      "execution_count": 63,
      "outputs": [
        {
          "output_type": "stream",
          "name": "stdout",
          "text": [
            "5 4 3 2 1 \n",
            "\n",
            "5 4 3 2 \n",
            "\n",
            "5 4 3 \n",
            "\n",
            "5 4 \n",
            "\n",
            "5 \n",
            "\n"
          ]
        }
      ]
    },
    {
      "cell_type": "code",
      "source": [
        "for i in range(1,6):\n",
        "    for j in range (65,71-i):\n",
        "        print(chr(j), end=\" \")\n",
        "\n",
        "    print()"
      ],
      "metadata": {
        "colab": {
          "base_uri": "https://localhost:8080/"
        },
        "id": "dQBAOrsJ2Qhj",
        "outputId": "583ee2f3-56b5-4057-9eea-5782ee3a463f"
      },
      "execution_count": 64,
      "outputs": [
        {
          "output_type": "stream",
          "name": "stdout",
          "text": [
            "A B C D E \n",
            "A B C D \n",
            "A B C \n",
            "A B \n",
            "A \n"
          ]
        }
      ]
    },
    {
      "cell_type": "code",
      "source": [
        "\n",
        "x=1\n",
        "for i in range(1,6):\n",
        "    for j in range (i,0,-1):\n",
        "        print(x, end=\" \")\n",
        "        x=x+1\n",
        "\n",
        "    print(\"\\n\")"
      ],
      "metadata": {
        "colab": {
          "base_uri": "https://localhost:8080/"
        },
        "id": "x_-JE6pa_y_B",
        "outputId": "06b2ff96-8585-4c1c-a8f6-bc2061cafbec"
      },
      "execution_count": 65,
      "outputs": [
        {
          "output_type": "stream",
          "name": "stdout",
          "text": [
            "1 \n",
            "\n",
            "2 3 \n",
            "\n",
            "4 5 6 \n",
            "\n",
            "7 8 9 10 \n",
            "\n",
            "11 12 13 14 15 \n",
            "\n"
          ]
        }
      ]
    },
    {
      "cell_type": "code",
      "source": [
        "\n",
        "x=5\n",
        "for i in range(1,6):\n",
        "    for j in range (i,0,-1):\n",
        "        print(x, end=\" \")\n",
        "        x=x-1\n",
        "\n",
        "    print(\"\\n\")\n",
        "    x=5\n"
      ],
      "metadata": {
        "colab": {
          "base_uri": "https://localhost:8080/"
        },
        "id": "O24C9m1k_zBr",
        "outputId": "8ff4b2ca-8400-450a-8e99-29438de70ad1"
      },
      "execution_count": 66,
      "outputs": [
        {
          "output_type": "stream",
          "name": "stdout",
          "text": [
            "5 \n",
            "\n",
            "5 4 \n",
            "\n",
            "5 4 3 \n",
            "\n",
            "5 4 3 2 \n",
            "\n",
            "5 4 3 2 1 \n",
            "\n"
          ]
        }
      ]
    },
    {
      "cell_type": "code",
      "source": [],
      "metadata": {
        "id": "6vORmRuT_zFM"
      },
      "execution_count": null,
      "outputs": []
    }
  ]
}