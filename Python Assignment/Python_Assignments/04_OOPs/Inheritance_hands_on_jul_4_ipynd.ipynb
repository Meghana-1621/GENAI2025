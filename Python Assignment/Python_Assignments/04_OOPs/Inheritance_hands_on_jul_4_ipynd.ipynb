{
  "cells": [
    {
      "cell_type": "code",
      "source": [
        "#SingleInheritance"
      ],
      "metadata": {
        "id": "U8Iw7KSCtYZF"
      },
      "execution_count": null,
      "outputs": []
    },
    {
      "cell_type": "code",
      "source": [
        "class Animal:\n",
        "    def __init__(self, name):\n",
        "        self.name = name\n",
        "        print(f\"[Animal] Initialized: {self.name}\")\n",
        "\n",
        "    def make_sound(self):\n",
        "        print(f\"[Animal] {self.name} is making a sound.\")\n",
        "\n",
        "# Derived Class\n",
        "class Dog(Animal):\n",
        "    def __init__(self, name, breed):\n",
        "        super().__init__(name)\n",
        "        self.breed = breed\n",
        "        print(f\"[Dog] Initialized: {self.breed}\")\n",
        "\n",
        "    def bark(self):\n",
        "        print(f\"[Dog] {self.name} the {self.breed} is barking!\")\n",
        "\n",
        "# Object creation and method calls\n",
        "my_dog = Dog(\"Buddy\", \"Labrador\")\n",
        "\n",
        "my_dog.make_sound()\n",
        "my_dog.bark()"
      ],
      "metadata": {
        "colab": {
          "base_uri": "https://localhost:8080/"
        },
        "id": "R-32H05ctYPw",
        "outputId": "76a3b83d-27d6-4d6c-bdb7-304e03511ace"
      },
      "execution_count": null,
      "outputs": [
        {
          "output_type": "stream",
          "name": "stdout",
          "text": [
            "[Animal] Initialized: Buddy\n",
            "[Dog] Initialized: Labrador\n",
            "[Animal] Buddy is making a sound.\n",
            "[Dog] Buddy the Labrador is barking!\n"
          ]
        }
      ]
    },
    {
      "cell_type": "code",
      "source": [
        "# Base Class\n",
        "class Fruit:\n",
        "    def __init__(self, color):\n",
        "        self.color = color\n",
        "        print(f\"[Fruit] Color: {self.color}\")\n",
        "\n",
        "    def describe(self):\n",
        "        print(f\"[Fruit] This fruit is {self.color}.\")\n",
        "\n",
        "# Derived Class\n",
        "class Apple(Fruit):\n",
        "    def __init__(self, color, taste):\n",
        "        super().__init__(color)\n",
        "        self.taste = taste\n",
        "        print(f\"[Apple] Taste: {self.taste}\")\n",
        "\n",
        "    def describe(self):\n",
        "        print(f\"[Apple] This apple tastes {self.taste}.\")\n",
        "\n",
        "# Object creation and method calls\n",
        "my_apple = Apple(\"Red\", \"Sweet\")\n",
        "my_apple.describe()\n",
        "my_apple.describe()"
      ],
      "metadata": {
        "colab": {
          "base_uri": "https://localhost:8080/"
        },
        "id": "1h-pfNWXtYMQ",
        "outputId": "c966f823-e128-4460-96a7-8a6b170f293f"
      },
      "execution_count": null,
      "outputs": [
        {
          "output_type": "stream",
          "name": "stdout",
          "text": [
            "[Fruit] Color: Red\n",
            "[Apple] Taste: Sweet\n",
            "[Apple] This apple tastes Sweet.\n",
            "[Apple] This apple tastes Sweet.\n"
          ]
        }
      ]
    },
    {
      "cell_type": "code",
      "source": [
        "# Base Class\n",
        "class Book:\n",
        "    def __init__(self, title):\n",
        "        self.title = title\n",
        "        print(f\"[Book] Title: {self.title}\")\n",
        "\n",
        "    def read(self):\n",
        "        print(f\"[Book] Reading {self.title}\")\n",
        "\n",
        "# Derived Class\n",
        "class Novel(Book):\n",
        "    def __init__(self, title, author):\n",
        "        super().__init__(title)\n",
        "        self.author = author\n",
        "        print(f\"[Novel] Author: {self.author}\")\n",
        "\n",
        "    def read(self):\n",
        "        print(f\"[Novel] {self.title} by {self.author}\")\n",
        "\n",
        "# Object creation and method calls\n",
        "my_novel = Novel(\"1984\", \"George Orwell\")\n",
        "my_novel.read()\n",
        "my_novel.read()"
      ],
      "metadata": {
        "colab": {
          "base_uri": "https://localhost:8080/"
        },
        "id": "BDPbSB8ptYJZ",
        "outputId": "78b7af9c-0e4f-49e2-ae37-da1d2e26b9e5"
      },
      "execution_count": null,
      "outputs": [
        {
          "output_type": "stream",
          "name": "stdout",
          "text": [
            "[Book] Title: 1984\n",
            "[Novel] Author: George Orwell\n",
            "[Novel] 1984 by George Orwell\n",
            "[Novel] 1984 by George Orwell\n"
          ]
        }
      ]
    },
    {
      "cell_type": "code",
      "source": [
        "#MultilevelInheritance"
      ],
      "metadata": {
        "id": "qz4dE-mBtYGq"
      },
      "execution_count": null,
      "outputs": []
    },
    {
      "cell_type": "code",
      "source": [
        "# Base Class (Level 1)\n",
        "class Car:\n",
        "    def __init__(self, brand):\n",
        "        self.brand = brand\n",
        "        print(f\"[Car] Initialized for brand: {self.brand}\")\n",
        "\n",
        "    def start_engine(self):\n",
        "        print(f\"[Car] Starting engine of {self.brand}\")\n",
        "\n",
        "# Derived Class (Level 2)\n",
        "class Vehicle(Car):\n",
        "    def __init__(self, brand, model):\n",
        "        super().__init__(brand)\n",
        "        self.model = model\n",
        "        print(f\"[Vehicle] Initialized for model: {self.model}\")\n",
        "\n",
        "    def drive(self):\n",
        "        print(f\"[Vehicle] Driving {self.brand} {self.model}\")\n",
        "\n",
        "# Derived Class (Level 3)\n",
        "class ElectricCar(Vehicle):\n",
        "    def __init__(self, brand, model, battery_range):\n",
        "        super().__init__(brand, model)\n",
        "        self.battery_range = battery_range\n",
        "        print(f\"[ElectricCar] Initialized with range: {self.battery_range} km\")\n",
        "\n",
        "    def charge(self):\n",
        "        print(f\"[ElectricCar] Charging {self.brand} {self.model}... Range: {self.battery_range} km\")\n",
        "\n",
        "    def start_engine(self):\n",
        "        print(f\"[ElectricCar] No engine to start. {self.brand} {self.model} is electric!\")\n",
        "\n",
        "# Object creation and method calls\n",
        "my_electric_car = ElectricCar(\"Tesla\", \"Model 3\", 500)\n",
        "\n",
        "my_electric_car.start_engine()\n",
        "my_electric_car.drive()\n",
        "my_electric_car.charge()\n",
        "\n"
      ],
      "metadata": {
        "colab": {
          "base_uri": "https://localhost:8080/"
        },
        "id": "vl8LS3TGtYDp",
        "outputId": "c8a1cbbc-b600-4b45-b30f-8d1eb8019cef"
      },
      "execution_count": null,
      "outputs": [
        {
          "output_type": "stream",
          "name": "stdout",
          "text": [
            "[Car] Initialized for brand: Tesla\n",
            "[Vehicle] Initialized for model: Model 3\n",
            "[ElectricCar] Initialized with range: 500 km\n",
            "[ElectricCar] No engine to start. Tesla Model 3 is electric!\n",
            "[Vehicle] Driving Tesla Model 3\n",
            "[ElectricCar] Charging Tesla Model 3... Range: 500 km\n"
          ]
        }
      ]
    },
    {
      "cell_type": "code",
      "source": [
        "# Base Class\n",
        "class Device:\n",
        "    def __init__(self, name):\n",
        "        self.name = name\n",
        "        print(f\"[Device] Name: {self.name}\")\n",
        "\n",
        "    def power_on(self):\n",
        "        print(f\"[Device] Powering on {self.name}\")\n",
        "\n",
        "# Derived Class 1\n",
        "class Computer(Device):\n",
        "    def __init__(self, name, os):\n",
        "        super().__init__(name)\n",
        "        self.os = os\n",
        "        print(f\"[Computer] OS: {self.os}\")\n",
        "\n",
        "    def boot(self):\n",
        "        print(f\"[Computer] Booting {self.name} with {self.os}\")\n",
        "\n",
        "# Derived Class 2\n",
        "class Laptop(Computer):\n",
        "    def __init__(self, name, os, version):\n",
        "        super().__init__(name, os)\n",
        "        self.version = version\n",
        "        print(f\"[Laptop] Version: {self.version}\")\n",
        "\n",
        "    def run(self):\n",
        "        print(f\"[Laptop] {self.name} running {self.os} v{self.version}\")\n",
        "\n",
        "# Object creation and method calls\n",
        "my_laptop = Laptop(\"ThinkPad\", \"Windows\", \"10\")\n",
        "my_laptop.power_on()\n",
        "my_laptop.boot()\n",
        "my_laptop.run()"
      ],
      "metadata": {
        "colab": {
          "base_uri": "https://localhost:8080/"
        },
        "id": "BDWXBPt-tYAt",
        "outputId": "0fc6c2e7-2a93-4f90-92fc-f340953c094b"
      },
      "execution_count": null,
      "outputs": [
        {
          "output_type": "stream",
          "name": "stdout",
          "text": [
            "[Device] Name: ThinkPad\n",
            "[Computer] OS: Windows\n",
            "[Laptop] Version: 10\n",
            "[Device] Powering on ThinkPad\n",
            "[Computer] Booting ThinkPad with Windows\n",
            "[Laptop] ThinkPad running Windows v10\n"
          ]
        }
      ]
    },
    {
      "cell_type": "code",
      "source": [
        "#MultipleInheritance"
      ],
      "metadata": {
        "id": "VEYUPU8htX97"
      },
      "execution_count": null,
      "outputs": []
    },
    {
      "cell_type": "code",
      "source": [
        "class Bird:\n",
        "    def __init__(self):\n",
        "        print(\"[Bird] Can fly!\")\n",
        "    def Fly(self):\n",
        "        print(\"[Bird] Flying...\")\n",
        "\n",
        "# Base Class 2\n",
        "class Swimmer:\n",
        "    def __init__(self):\n",
        "        print(\"[Swimmer] Can swim!\")\n",
        "    def Swim(self):\n",
        "        print(\"[Swimmer] Swimming...\")\n",
        "\n",
        "# Derived Class\n",
        "class Duck(Bird, Swimmer):\n",
        "    def __init__(self):\n",
        "        Bird.__init__(self)\n",
        "        Swimmer.__init__(self)\n",
        "        print(\"[Duck] Initialized!\")\n",
        "\n",
        "    def quack(self):\n",
        "        print(\"[Duck] Quacking!\")\n",
        "\n",
        "# Object creation and method calls\n",
        "donald = Duck()\n",
        "donald.Fly()\n",
        "donald.Swim()\n",
        "donald.quack()"
      ],
      "metadata": {
        "colab": {
          "base_uri": "https://localhost:8080/"
        },
        "id": "du8j7v6CtX6t",
        "outputId": "6edd7dc3-7671-471c-d0ab-00d6ba70c591"
      },
      "execution_count": null,
      "outputs": [
        {
          "output_type": "stream",
          "name": "stdout",
          "text": [
            "[Bird] Can fly!\n",
            "[Swimmer] Can swim!\n",
            "[Duck] Initialized!\n",
            "[Bird] Flying...\n",
            "[Swimmer] Swimming...\n",
            "[Duck] Quacking!\n"
          ]
        }
      ]
    },
    {
      "cell_type": "code",
      "source": [
        "class Exercise:\n",
        "    def Walk(self):\n",
        "        print(\"[Walker] Walking...\")\n",
        "\n",
        "# Base Class 2\n",
        "class Vishal:\n",
        "    def Run(self):\n",
        "        print(\"[Runner] Running...\")\n",
        "\n",
        "# Derived Class\n",
        "class Athlete(Exercise, Vishal):\n",
        "    def Competition(self):\n",
        "        print(\"[Athlete] Competing!\")\n",
        "\n",
        "# Object creation and method calls\n",
        "athlete = Athlete()\n",
        "athlete.Run()\n",
        "athlete.Walk()\n",
        "athlete.Competition()"
      ],
      "metadata": {
        "colab": {
          "base_uri": "https://localhost:8080/"
        },
        "id": "nqwPstsNtXt5",
        "outputId": "494d3315-054d-4073-f96d-3fb7ca4e92a8"
      },
      "execution_count": null,
      "outputs": [
        {
          "output_type": "stream",
          "name": "stdout",
          "text": [
            "[Runner] Running...\n",
            "[Walker] Walking...\n",
            "[Athlete] Competing!\n"
          ]
        }
      ]
    },
    {
      "cell_type": "code",
      "source": [
        "class Man:\n",
        "    def Paint(self):\n",
        "        print(\"[Painter] Painting...\")\n",
        "\n",
        "# Base Class 2\n",
        "class Meghana:\n",
        "    def Sing(self):\n",
        "        print(\"[Singer] Singing...\")\n",
        "\n",
        "# Derived Class\n",
        "class Artist(Man, Meghana):\n",
        "    def Performance(self):\n",
        "        print(\"[Artist] Performing!\")\n",
        "\n",
        "# Object creation and method calls\n",
        "artist = Artist()\n",
        "artist.Paint()\n",
        "artist.Sing()\n",
        "artist.Performance()"
      ],
      "metadata": {
        "id": "l6QX_-fFtXqb",
        "colab": {
          "base_uri": "https://localhost:8080/"
        },
        "outputId": "c718adc6-60be-4ea4-91b9-529f66b45107"
      },
      "execution_count": 3,
      "outputs": [
        {
          "output_type": "stream",
          "name": "stdout",
          "text": [
            "[Painter] Painting...\n",
            "[Singer] Singing...\n",
            "[Artist] Performing!\n"
          ]
        }
      ]
    },
    {
      "cell_type": "code",
      "source": [
        "#HybridInheritance"
      ],
      "metadata": {
        "id": "s8pgqsSTtXm_"
      },
      "execution_count": null,
      "outputs": []
    },
    {
      "cell_type": "code",
      "source": [
        "class Person:\n",
        "    def __init__(self, name):\n",
        "        self.name = name\n",
        "        print(f\"[Person] Initialized: {self.name}\")\n",
        "\n",
        "# Parent Class 1\n",
        "class Employee:\n",
        "    def work(self):\n",
        "        print(\"[Employee] Working...\")\n",
        "\n",
        "# Parent Class 2\n",
        "class Student:\n",
        "    def study(self):\n",
        "        print(\"[Student] Studying...\")\n",
        "\n",
        "# Derived Class (Hybrid)\n",
        "class Intern(Person, Employee, Student):\n",
        "    def __init__(self, name):\n",
        "        Person.__init__(self, name)\n",
        "        print(\"[Intern] Initialized!\")\n",
        "\n",
        "    def intern_task(self):\n",
        "        print(f\"[Intern] {self.name} is interning!\")\n",
        "\n",
        "# Object creation and method calls\n",
        "intern = Intern(\"Alice\")\n",
        "intern.work()\n",
        "intern.study()\n",
        "intern.intern_task()"
      ],
      "metadata": {
        "id": "Wu5MuMectXjf",
        "colab": {
          "base_uri": "https://localhost:8080/"
        },
        "outputId": "4843f9ba-57b3-43b2-f8e8-35c35034a13e"
      },
      "execution_count": 5,
      "outputs": [
        {
          "output_type": "stream",
          "name": "stdout",
          "text": [
            "[Person] Initialized: Alice\n",
            "[Intern] Initialized!\n",
            "[Employee] Working...\n",
            "[Student] Studying...\n",
            "[Intern] Alice is interning!\n"
          ]
        }
      ]
    },
    {
      "cell_type": "code",
      "source": [
        "# Base Class\n",
        "class Account:\n",
        "    def __init__(self, id):\n",
        "        self.id = id\n",
        "        print(f\"[Account] ID: {self.id}\")\n",
        "\n",
        "# Parent Class 1\n",
        "class Buyer:\n",
        "    def buy(self):\n",
        "        print(\"[Buyer] Buying...\")\n",
        "\n",
        "# Parent Class 2\n",
        "class Seller:\n",
        "    def sell(self):\n",
        "        print(\"[Seller] Selling...\")\n",
        "\n",
        "# Derived Class (Hybrid)\n",
        "class MarketplaceUser(Account, Buyer, Seller):\n",
        "    def __init__(self, id):\n",
        "        Account.__init__(self, id)\n",
        "        print(\"[MarketplaceUser] Initialized!\")\n",
        "\n",
        "    def is_active(self):\n",
        "        print(f\"[MarketplaceUser] User {self.id} is active!\")\n",
        "\n",
        "# Object creation and method calls\n",
        "user = MarketplaceUser(101)\n",
        "user.buy()\n",
        "user.sell()\n",
        "user.is_active()"
      ],
      "metadata": {
        "id": "w_ka8c1otXgX",
        "colab": {
          "base_uri": "https://localhost:8080/"
        },
        "outputId": "c156c184-7e5a-4b5f-9850-d83229b2ac94"
      },
      "execution_count": 6,
      "outputs": [
        {
          "output_type": "stream",
          "name": "stdout",
          "text": [
            "[Account] ID: 101\n",
            "[MarketplaceUser] Initialized!\n",
            "[Buyer] Buying...\n",
            "[Seller] Selling...\n",
            "[MarketplaceUser] User 101 is active!\n"
          ]
        }
      ]
    },
    {
      "cell_type": "code",
      "source": [
        "# Base Class\n",
        "class Device:\n",
        "    def __init__(self, name):\n",
        "        self.name = name\n",
        "        print(f\"[Device] Name: {self.name}\")\n",
        "\n",
        "# Parent Class 1\n",
        "class Camera:\n",
        "    def take_photo(self):\n",
        "        print(\"[Camera] Taking photo...\")\n",
        "\n",
        "# Parent Class 2\n",
        "class Phone:\n",
        "    def make_call(self):\n",
        "        print(\"[Phone] Making call...\")\n",
        "\n",
        "# Derived Class (Hybrid)\n",
        "class Smartphone(Device, Camera, Phone):\n",
        "    def __init__(self, name):\n",
        "        Device.__init__(self, name)\n",
        "        print(\"[Smartphone] Ready!\")\n",
        "\n",
        "    def is_smart(self):\n",
        "        print(f\"[Smartphone] {self.name} is smart!\")\n",
        "\n",
        "# Object creation and method calls\n",
        "sp = Smartphone(\"Pixel\")\n",
        "sp.take_photo()\n",
        "sp.make_call()\n",
        "sp.is_smart()"
      ],
      "metadata": {
        "id": "x_WuIV6XtXdW",
        "colab": {
          "base_uri": "https://localhost:8080/"
        },
        "outputId": "b7d9a9f0-171a-47f1-f1d1-c88b25be7737"
      },
      "execution_count": 9,
      "outputs": [
        {
          "output_type": "stream",
          "name": "stdout",
          "text": [
            "[Device] Name: Pixel\n",
            "[Smartphone] Ready!\n",
            "[Camera] Taking photo...\n",
            "[Phone] Making call...\n",
            "[Smartphone] Pixel is smart!\n"
          ]
        }
      ]
    },
    {
      "cell_type": "code",
      "source": [
        "#HierarchicalInheritance"
      ],
      "metadata": {
        "id": "sJ5ndq_UtXaX"
      },
      "execution_count": null,
      "outputs": []
    },
    {
      "cell_type": "code",
      "source": [
        "class Shape:\n",
        "    def __init__(self, name):\n",
        "        self.name = name\n",
        "        print(f\"[Shape] Initialized: {self.name}\")\n",
        "\n",
        "    def draw(self):\n",
        "        print(f\"[Shape] Drawing {self.name}\")\n",
        "\n",
        "# Derived Class 1\n",
        "class Circle(Shape):\n",
        "    def __init__(self, name, radius):\n",
        "        super().__init__(name)\n",
        "        self.radius = radius\n",
        "        print(f\"[Circle] Radius: {self.radius}\")\n",
        "\n",
        "    def calculate_area(self):\n",
        "        print(f\"[Circle] Area: {3.14 * self.radius * self.radius}\")\n",
        "\n",
        "# Derived Class 2\n",
        "class Square(Shape):\n",
        "    def __init__(self, name, side):\n",
        "        super().__init__(name)\n",
        "        self.side = side\n",
        "        print(f\"[Square] Side: {self.side}\")\n",
        "\n",
        "    def calculate_area(self):\n",
        "        print(f\"[Square] Area: {self.side * self.side}\")\n",
        "\n",
        "# Object creation and method calls\n",
        "c = Circle(\"Circle\", 5)\n",
        "s = Square(\"Square\", 4)\n",
        "c.draw()\n",
        "c.calculate_area()\n",
        "s.draw()\n",
        "s.calculate_area()"
      ],
      "metadata": {
        "id": "YVpF-lOitXXa",
        "colab": {
          "base_uri": "https://localhost:8080/"
        },
        "outputId": "04d2634e-54a7-468f-db2f-c91172e3a3cb"
      },
      "execution_count": 11,
      "outputs": [
        {
          "output_type": "stream",
          "name": "stdout",
          "text": [
            "[Shape] Initialized: Circle\n",
            "[Circle] Radius: 5\n",
            "[Shape] Initialized: Square\n",
            "[Square] Side: 4\n",
            "[Shape] Drawing Circle\n",
            "[Circle] Area: 78.5\n",
            "[Shape] Drawing Square\n",
            "[Square] Area: 16\n"
          ]
        }
      ]
    },
    {
      "cell_type": "code",
      "source": [
        "class Employee:\n",
        "    def __init__(self, name):\n",
        "        self.name = name\n",
        "        print(f\"[Employee] Name: {self.name}\")\n",
        "\n",
        "    def work(self):\n",
        "        print(f\"[Employee] Working: {self.name}\")\n",
        "\n",
        "# Derived Class 1\n",
        "class Manager(Employee):\n",
        "    def __init__(self, name, department):\n",
        "        super().__init__(name)\n",
        "        self.department = department\n",
        "        print(f\"[Manager] Department: {self.department}\")\n",
        "\n",
        "    def manage(self):\n",
        "        print(f\"[Manager] Managing {self.department}\")\n",
        "\n",
        "# Derived Class 2\n",
        "class Developer(Employee):\n",
        "    def __init__(self, name, project):\n",
        "        super().__init__(name)\n",
        "        self.project = project\n",
        "        print(f\"[Developer] Project: {self.project}\")\n",
        "\n",
        "    def code(self):\n",
        "        print(f\"[Developer] Coding for {self.project}\")\n",
        "\n",
        "# Object creation and method calls\n",
        "mgr = Manager(\"Alice\", \"HR\")\n",
        "dev = Developer(\"Bob\", \"AI\")\n",
        "mgr.manage()\n",
        "mgr.work()\n",
        "dev.code()\n",
        "dev.work()"
      ],
      "metadata": {
        "colab": {
          "base_uri": "https://localhost:8080/"
        },
        "id": "JXScpLvG9yFP",
        "outputId": "121f15b4-4eda-4ebb-9216-976a3020f896"
      },
      "execution_count": 12,
      "outputs": [
        {
          "output_type": "stream",
          "name": "stdout",
          "text": [
            "[Employee] Name: Alice\n",
            "[Manager] Department: HR\n",
            "[Employee] Name: Bob\n",
            "[Developer] Project: AI\n",
            "[Manager] Managing HR\n",
            "[Employee] Working: Alice\n",
            "[Developer] Coding for AI\n",
            "[Employee] Working: Bob\n"
          ]
        }
      ]
    },
    {
      "cell_type": "code",
      "source": [
        "class Vehicle:\n",
        "    def __init__(self, name):\n",
        "        self.name = name\n",
        "        print(f\"[Vehicle] Name: {self.name}\")\n",
        "\n",
        "    def move(self):\n",
        "        print(f\"[Vehicle] Moving: {self.name}\")\n",
        "\n",
        "# Derived Class 1\n",
        "class Bike(Vehicle):\n",
        "    def __init__(self, name, wheels):\n",
        "        super().__init__(name)\n",
        "        self.wheels = wheels\n",
        "        print(f\"[Bike] Wheels: {self.wheels}\")\n",
        "\n",
        "    def ride(self):\n",
        "        print(f\"[Bike] Riding with {self.wheels} wheels\")\n",
        "\n",
        "# Derived Class 2\n",
        "class Bus(Vehicle):\n",
        "    def __init__(self, name, seats):\n",
        "        super().__init__(name)\n",
        "        self.seats = seats\n",
        "        print(f\"[Bus] Seats: {self.seats}\")\n",
        "\n",
        "    def carry(self):\n",
        "        print(f\"[Bus] Carrying {self.seats} passengers\")\n",
        "\n",
        "# Object creation and method calls\n",
        "bike = Bike(\"MountainBike\", 2)\n",
        "bus = Bus(\"CityBus\", 40)\n",
        "bike.move()\n",
        "bike.ride()\n",
        "bus.move()\n",
        "bus.carry()"
      ],
      "metadata": {
        "colab": {
          "base_uri": "https://localhost:8080/"
        },
        "id": "7sd_VWy09yB2",
        "outputId": "d1cd3e65-793e-478c-9914-1ffc7dc9881d"
      },
      "execution_count": 14,
      "outputs": [
        {
          "output_type": "stream",
          "name": "stdout",
          "text": [
            "[Vehicle] Name: MountainBike\n",
            "[Bike] Wheels: 2\n",
            "[Vehicle] Name: CityBus\n",
            "[Bus] Seats: 40\n",
            "[Vehicle] Moving: MountainBike\n",
            "[Bike] Riding with 2 wheels\n",
            "[Vehicle] Moving: CityBus\n",
            "[Bus] Carrying 40 passengers\n"
          ]
        }
      ]
    },
    {
      "cell_type": "code",
      "source": [],
      "metadata": {
        "id": "qYHDcHNW9x-o"
      },
      "execution_count": null,
      "outputs": []
    },
    {
      "cell_type": "code",
      "source": [],
      "metadata": {
        "id": "Mu2mUbFV9x78"
      },
      "execution_count": null,
      "outputs": []
    },
    {
      "cell_type": "code",
      "source": [],
      "metadata": {
        "id": "fsl11qVE9x5W"
      },
      "execution_count": null,
      "outputs": []
    },
    {
      "cell_type": "code",
      "source": [],
      "metadata": {
        "id": "lEGqWde09x2J"
      },
      "execution_count": null,
      "outputs": []
    },
    {
      "cell_type": "code",
      "source": [],
      "metadata": {
        "id": "ZE0sU_U59xzJ"
      },
      "execution_count": null,
      "outputs": []
    },
    {
      "cell_type": "code",
      "source": [],
      "metadata": {
        "id": "rH9gK_Wl9xwH"
      },
      "execution_count": null,
      "outputs": []
    }
  ],
  "metadata": {
    "colab": {
      "toc_visible": true,
      "provenance": []
    },
    "kernelspec": {
      "display_name": "Python 3",
      "name": "python3"
    }
  },
  "nbformat": 4,
  "nbformat_minor": 0
}