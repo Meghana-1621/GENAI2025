{
  "nbformat": 4,
  "nbformat_minor": 0,
  "metadata": {
    "colab": {
      "provenance": []
    },
    "kernelspec": {
      "name": "python3",
      "display_name": "Python 3"
    },
    "language_info": {
      "name": "python"
    }
  },
  "cells": [
    {
      "cell_type": "code",
      "execution_count": null,
      "metadata": {
        "id": "Tnljvqc4eb55"
      },
      "outputs": [],
      "source": [
        "import numpy as np"
      ]
    },
    {
      "cell_type": "code",
      "source": [
        "data=np.random.randint(0,5,(3,3))"
      ],
      "metadata": {
        "id": "Bl1ht5E7ehNp"
      },
      "execution_count": null,
      "outputs": []
    },
    {
      "cell_type": "code",
      "source": [
        "data"
      ],
      "metadata": {
        "colab": {
          "base_uri": "https://localhost:8080/"
        },
        "id": "vsV2NLAjehQO",
        "outputId": "3f0e812c-2fc9-4538-a64b-b2e7a250bf06"
      },
      "execution_count": null,
      "outputs": [
        {
          "output_type": "execute_result",
          "data": {
            "text/plain": [
              "array([[0, 2, 4],\n",
              "       [4, 4, 1],\n",
              "       [3, 2, 0]])"
            ]
          },
          "metadata": {},
          "execution_count": 25
        }
      ]
    },
    {
      "cell_type": "code",
      "source": [
        "data.sum()"
      ],
      "metadata": {
        "colab": {
          "base_uri": "https://localhost:8080/"
        },
        "id": "KIN7Dy6oehTB",
        "outputId": "854507d8-b0b8-4cf2-bad0-f05585c572e8"
      },
      "execution_count": null,
      "outputs": [
        {
          "output_type": "execute_result",
          "data": {
            "text/plain": [
              "np.int64(20)"
            ]
          },
          "metadata": {},
          "execution_count": 5
        }
      ]
    },
    {
      "cell_type": "code",
      "source": [
        "data.sum(axis=1)"
      ],
      "metadata": {
        "colab": {
          "base_uri": "https://localhost:8080/"
        },
        "id": "24QTcmzdehV8",
        "outputId": "e663e445-35d6-4d2c-aa06-42e0531f4035"
      },
      "execution_count": null,
      "outputs": [
        {
          "output_type": "execute_result",
          "data": {
            "text/plain": [
              "array([6, 9, 5])"
            ]
          },
          "metadata": {},
          "execution_count": 6
        }
      ]
    },
    {
      "cell_type": "code",
      "source": [
        "data.sum(axis=0)"
      ],
      "metadata": {
        "colab": {
          "base_uri": "https://localhost:8080/"
        },
        "id": "NbuVlgLYehYi",
        "outputId": "4e9a8325-7111-476b-c832-ca7381fe335b"
      },
      "execution_count": null,
      "outputs": [
        {
          "output_type": "execute_result",
          "data": {
            "text/plain": [
              "array([7, 8, 5])"
            ]
          },
          "metadata": {},
          "execution_count": 7
        }
      ]
    },
    {
      "cell_type": "code",
      "source": [
        "data.max()"
      ],
      "metadata": {
        "colab": {
          "base_uri": "https://localhost:8080/"
        },
        "id": "4FCPj5B-ehbX",
        "outputId": "671cc51a-ae3b-4d90-b983-3bffd967fee1"
      },
      "execution_count": null,
      "outputs": [
        {
          "output_type": "execute_result",
          "data": {
            "text/plain": [
              "np.int64(4)"
            ]
          },
          "metadata": {},
          "execution_count": 8
        }
      ]
    },
    {
      "cell_type": "code",
      "source": [
        "data.min()"
      ],
      "metadata": {
        "colab": {
          "base_uri": "https://localhost:8080/"
        },
        "id": "axrNN_BQehdv",
        "outputId": "eaadbc40-4249-47bc-8a86-2b6e4213d875"
      },
      "execution_count": null,
      "outputs": [
        {
          "output_type": "execute_result",
          "data": {
            "text/plain": [
              "np.int64(0)"
            ]
          },
          "metadata": {},
          "execution_count": 9
        }
      ]
    },
    {
      "cell_type": "code",
      "source": [
        "data.max(axis=1)"
      ],
      "metadata": {
        "colab": {
          "base_uri": "https://localhost:8080/"
        },
        "id": "h-5Z96GAehgf",
        "outputId": "672f3967-8864-4b86-f7ab-b62934c60506"
      },
      "execution_count": null,
      "outputs": [
        {
          "output_type": "execute_result",
          "data": {
            "text/plain": [
              "array([4, 4, 3])"
            ]
          },
          "metadata": {},
          "execution_count": 10
        }
      ]
    },
    {
      "cell_type": "code",
      "source": [
        "data.min(axis=0)"
      ],
      "metadata": {
        "colab": {
          "base_uri": "https://localhost:8080/"
        },
        "id": "9oZlV4F8ehja",
        "outputId": "5bccc5f8-6744-4405-9429-d08917947976"
      },
      "execution_count": null,
      "outputs": [
        {
          "output_type": "execute_result",
          "data": {
            "text/plain": [
              "array([0, 2, 0])"
            ]
          },
          "metadata": {},
          "execution_count": 11
        }
      ]
    },
    {
      "cell_type": "code",
      "source": [
        "data.min(axis=1)"
      ],
      "metadata": {
        "colab": {
          "base_uri": "https://localhost:8080/"
        },
        "id": "ecCBtNirehmB",
        "outputId": "eadfe6d8-a5c8-40cc-df2f-70fbadd88502"
      },
      "execution_count": null,
      "outputs": [
        {
          "output_type": "execute_result",
          "data": {
            "text/plain": [
              "array([0, 1, 0])"
            ]
          },
          "metadata": {},
          "execution_count": 12
        }
      ]
    },
    {
      "cell_type": "code",
      "source": [
        "data.max(axis=0)"
      ],
      "metadata": {
        "colab": {
          "base_uri": "https://localhost:8080/"
        },
        "id": "pugghYr0ehot",
        "outputId": "db8ab947-a0e0-4d78-d01c-58e1b8110a4d"
      },
      "execution_count": null,
      "outputs": [
        {
          "output_type": "execute_result",
          "data": {
            "text/plain": [
              "array([4, 4, 4])"
            ]
          },
          "metadata": {},
          "execution_count": 13
        }
      ]
    },
    {
      "cell_type": "code",
      "source": [
        "data.argmax(axis=1)"
      ],
      "metadata": {
        "colab": {
          "base_uri": "https://localhost:8080/"
        },
        "id": "u2Q9owzzehrY",
        "outputId": "8f73a888-ae54-4bce-8525-24606baa3087"
      },
      "execution_count": null,
      "outputs": [
        {
          "output_type": "execute_result",
          "data": {
            "text/plain": [
              "array([2, 0, 0])"
            ]
          },
          "metadata": {},
          "execution_count": 15
        }
      ]
    },
    {
      "cell_type": "code",
      "source": [
        "data.argmax(axis=0)"
      ],
      "metadata": {
        "colab": {
          "base_uri": "https://localhost:8080/"
        },
        "id": "_23D6Z5mehuL",
        "outputId": "27eb9675-7c55-4500-c04d-a0a63c09a8a4"
      },
      "execution_count": null,
      "outputs": [
        {
          "output_type": "execute_result",
          "data": {
            "text/plain": [
              "array([1, 1, 0])"
            ]
          },
          "metadata": {},
          "execution_count": 18
        }
      ]
    },
    {
      "cell_type": "code",
      "source": [
        "data.argmin(axis=0)"
      ],
      "metadata": {
        "colab": {
          "base_uri": "https://localhost:8080/"
        },
        "id": "KiWurxPEehw4",
        "outputId": "aab13f07-3bfd-44d8-b5e7-c8a434902a3b"
      },
      "execution_count": null,
      "outputs": [
        {
          "output_type": "execute_result",
          "data": {
            "text/plain": [
              "array([0, 0, 2])"
            ]
          },
          "metadata": {},
          "execution_count": 26
        }
      ]
    },
    {
      "cell_type": "code",
      "source": [
        "data.argmin(axis=1)"
      ],
      "metadata": {
        "colab": {
          "base_uri": "https://localhost:8080/"
        },
        "id": "KAGjf4sFehz0",
        "outputId": "a60191b6-3df4-49bb-f989-265dfc0cb591"
      },
      "execution_count": null,
      "outputs": [
        {
          "output_type": "execute_result",
          "data": {
            "text/plain": [
              "array([0, 2, 2])"
            ]
          },
          "metadata": {},
          "execution_count": 31
        }
      ]
    },
    {
      "cell_type": "code",
      "source": [
        "data=np.random.randint(1,6,(3,3))"
      ],
      "metadata": {
        "id": "PAV-ky2reh24"
      },
      "execution_count": null,
      "outputs": []
    },
    {
      "cell_type": "code",
      "source": [
        "data"
      ],
      "metadata": {
        "colab": {
          "base_uri": "https://localhost:8080/"
        },
        "id": "ZC1DbGJfeh50",
        "outputId": "8922001d-2b3c-435e-d51f-8654867c6141"
      },
      "execution_count": null,
      "outputs": [
        {
          "output_type": "execute_result",
          "data": {
            "text/plain": [
              "array([[1, 4, 4],\n",
              "       [5, 4, 2],\n",
              "       [5, 1, 3]])"
            ]
          },
          "metadata": {},
          "execution_count": 33
        }
      ]
    },
    {
      "cell_type": "code",
      "source": [
        "data.sum(axis=1)"
      ],
      "metadata": {
        "colab": {
          "base_uri": "https://localhost:8080/"
        },
        "id": "1jClQ3moeh86",
        "outputId": "09a2c000-af95-4f97-e490-6f01cf2fefb0"
      },
      "execution_count": null,
      "outputs": [
        {
          "output_type": "execute_result",
          "data": {
            "text/plain": [
              "array([ 9, 11,  9])"
            ]
          },
          "metadata": {},
          "execution_count": 35
        }
      ]
    },
    {
      "cell_type": "code",
      "source": [
        "data.sum(axis=1).argmin()+1"
      ],
      "metadata": {
        "colab": {
          "base_uri": "https://localhost:8080/"
        },
        "id": "AHAak2D5eiAC",
        "outputId": "bfbeb2ce-2717-4bea-e82e-8bd01a124d8f"
      },
      "execution_count": null,
      "outputs": [
        {
          "output_type": "execute_result",
          "data": {
            "text/plain": [
              "np.int64(1)"
            ]
          },
          "metadata": {},
          "execution_count": 50
        }
      ]
    },
    {
      "cell_type": "code",
      "source": [
        "data.sum(axis=1).argmax()+1"
      ],
      "metadata": {
        "colab": {
          "base_uri": "https://localhost:8080/"
        },
        "id": "JK56p4DzeiCu",
        "outputId": "2cb30db1-3c10-4228-b256-9fed1a06c60e"
      },
      "execution_count": null,
      "outputs": [
        {
          "output_type": "execute_result",
          "data": {
            "text/plain": [
              "np.int64(2)"
            ]
          },
          "metadata": {},
          "execution_count": 51
        }
      ]
    },
    {
      "cell_type": "code",
      "source": [
        "data.sum(axis=0)+1"
      ],
      "metadata": {
        "colab": {
          "base_uri": "https://localhost:8080/"
        },
        "id": "beqTX2WSeiFh",
        "outputId": "4e757f8f-e163-4b4b-b52a-c969a1403010"
      },
      "execution_count": null,
      "outputs": [
        {
          "output_type": "execute_result",
          "data": {
            "text/plain": [
              "array([12, 10, 10])"
            ]
          },
          "metadata": {},
          "execution_count": 52
        }
      ]
    },
    {
      "cell_type": "code",
      "source": [
        "data.sum(axis=0).argmax()+1"
      ],
      "metadata": {
        "colab": {
          "base_uri": "https://localhost:8080/"
        },
        "id": "RMKw6rxFeiI9",
        "outputId": "61994430-f698-429c-c381-d9d11049ef1e"
      },
      "execution_count": null,
      "outputs": [
        {
          "output_type": "execute_result",
          "data": {
            "text/plain": [
              "np.int64(1)"
            ]
          },
          "metadata": {},
          "execution_count": 53
        }
      ]
    },
    {
      "cell_type": "code",
      "source": [
        "data=np.random.randint(2,6,(3,5))"
      ],
      "metadata": {
        "id": "k0zfzENjk7xQ"
      },
      "execution_count": null,
      "outputs": []
    },
    {
      "cell_type": "code",
      "source": [
        "data"
      ],
      "metadata": {
        "colab": {
          "base_uri": "https://localhost:8080/"
        },
        "id": "h-vGcLS4k70U",
        "outputId": "549f3f1f-ee2d-479c-bcea-14b6544d7884"
      },
      "execution_count": null,
      "outputs": [
        {
          "output_type": "execute_result",
          "data": {
            "text/plain": [
              "array([[5, 4, 5, 2, 5],\n",
              "       [5, 3, 5, 5, 2],\n",
              "       [3, 5, 4, 4, 4]])"
            ]
          },
          "metadata": {},
          "execution_count": 57
        }
      ]
    },
    {
      "cell_type": "code",
      "source": [
        "data.sum(axis=0)[3:].sum()"
      ],
      "metadata": {
        "colab": {
          "base_uri": "https://localhost:8080/"
        },
        "id": "dz3EmFtak734",
        "outputId": "9ae6f92b-c3a6-44f0-d213-ddb073433ec1"
      },
      "execution_count": null,
      "outputs": [
        {
          "output_type": "execute_result",
          "data": {
            "text/plain": [
              "np.int64(22)"
            ]
          },
          "metadata": {},
          "execution_count": 58
        }
      ]
    },
    {
      "cell_type": "code",
      "source": [
        "data[:,3:5].sum()"
      ],
      "metadata": {
        "colab": {
          "base_uri": "https://localhost:8080/"
        },
        "id": "uJntLeGDk77m",
        "outputId": "9b0c7b36-a61f-4fb4-f89a-8ca71e4b18b9"
      },
      "execution_count": null,
      "outputs": [
        {
          "output_type": "execute_result",
          "data": {
            "text/plain": [
              "np.int64(22)"
            ]
          },
          "metadata": {},
          "execution_count": 60
        }
      ]
    },
    {
      "cell_type": "code",
      "source": [
        "data=np.random.randint(1,100,(20,20))"
      ],
      "metadata": {
        "id": "F5xaclX1k7-Z"
      },
      "execution_count": null,
      "outputs": []
    },
    {
      "cell_type": "code",
      "source": [
        "data"
      ],
      "metadata": {
        "id": "QjTy4Ggwmq68",
        "outputId": "70706121-9f2f-4735-9f4c-2e8907a291cc",
        "colab": {
          "base_uri": "https://localhost:8080/"
        }
      },
      "execution_count": null,
      "outputs": [
        {
          "output_type": "execute_result",
          "data": {
            "text/plain": [
              "array([[ 9, 62, 42, 40, 31, 48,  5, 28, 22, 87, 18,  1, 19, 79, 23, 48,\n",
              "         4, 34, 82, 83],\n",
              "       [94, 16,  1, 88, 64, 71, 59, 57, 82, 60, 18, 37, 14,  4, 51, 54,\n",
              "        90, 70, 47, 45],\n",
              "       [51, 59, 14, 70, 76, 99, 97, 78, 99, 68, 26, 21, 15, 12, 97, 15,\n",
              "        31, 99, 46,  5],\n",
              "       [28, 19, 39, 68, 92, 56, 54, 86, 80, 62, 86,  2, 15, 24, 72, 58,\n",
              "        62, 60, 78, 15],\n",
              "       [52, 41, 41, 87, 34,  1, 81, 59, 86, 55,  2, 15, 66, 32, 33, 75,\n",
              "        81, 81, 11, 81],\n",
              "       [86, 48, 96, 50, 82, 38, 98, 43, 57, 79, 68, 52, 69, 97, 33, 71,\n",
              "        17, 67, 56,  1],\n",
              "       [56, 94, 50, 11, 27, 15, 58, 33,  1, 15, 14, 62, 63,  5, 85, 35,\n",
              "        46, 70, 19,  5],\n",
              "       [99, 88, 80, 85, 40, 48, 99, 13, 51, 81,  8, 52, 48, 18, 32, 90,\n",
              "        64, 27, 34, 12],\n",
              "       [89, 76, 92, 33, 74, 31, 53,  1, 11, 66, 68, 31, 96, 98, 11, 83,\n",
              "        26, 36, 15, 78],\n",
              "       [67, 66, 82, 85, 26, 97, 51, 67,  3, 81, 60, 18, 77, 41, 97, 53,\n",
              "        46, 98, 23, 91],\n",
              "       [89, 44,  8, 70, 19, 34, 28, 61, 54, 64, 22, 49, 17, 66, 51, 86,\n",
              "        71, 34, 64, 71],\n",
              "       [69, 45, 61,  4, 97, 78, 39, 73, 17, 45, 22,  9, 29, 72,  7, 38,\n",
              "        96, 71, 64, 81],\n",
              "       [55, 56, 85, 66, 18, 25, 78, 64, 28, 16, 90, 45, 30,  5, 19,  4,\n",
              "        25, 55, 95, 55],\n",
              "       [55, 92, 92, 56, 79, 60, 80, 21,  4, 67, 83, 79, 22, 77, 67, 67,\n",
              "         5, 96, 79, 83],\n",
              "       [ 7,  9, 89, 27,  5, 31, 32, 77, 58, 53, 12, 78,  3, 91,  2, 99,\n",
              "        71, 23, 29, 24],\n",
              "       [23, 45, 37, 68, 40, 98, 71, 51, 85, 73, 88, 23, 95, 38, 93, 92,\n",
              "        73, 69, 39, 70],\n",
              "       [53, 77, 78, 36, 34, 97, 79, 15, 11, 21, 90, 30, 61, 98, 46, 41,\n",
              "        65, 67, 17, 74],\n",
              "       [33,  9, 56, 65, 66, 45, 29, 15, 18, 84, 74, 20, 63, 12, 81, 32,\n",
              "        55, 56, 40, 79],\n",
              "       [52, 39, 85, 50, 44, 19, 52, 71, 43, 88, 44, 58, 95, 59,  9, 99,\n",
              "         7, 96, 86, 22],\n",
              "       [57, 43, 66, 60,  5, 20,  9, 29, 76, 24, 79, 70, 95, 96, 83, 57,\n",
              "        18, 12, 26, 96]])"
            ]
          },
          "metadata": {},
          "execution_count": 69
        }
      ]
    },
    {
      "cell_type": "code",
      "source": [
        "data.sum(axis=1)"
      ],
      "metadata": {
        "colab": {
          "base_uri": "https://localhost:8080/"
        },
        "id": "h_dBhIpZk8A7",
        "outputId": "1bbe7e15-4418-4418-dcf6-1fe4493cbbf1"
      },
      "execution_count": null,
      "outputs": [
        {
          "output_type": "execute_result",
          "data": {
            "text/plain": [
              "array([ 765, 1022, 1078, 1056, 1014, 1208,  764, 1069, 1068, 1229, 1002,\n",
              "       1017,  914, 1264,  820, 1271, 1090,  932, 1118, 1021])"
            ]
          },
          "metadata": {},
          "execution_count": 74
        }
      ]
    },
    {
      "cell_type": "code",
      "source": [
        "data.max()"
      ],
      "metadata": {
        "id": "TTFBmRlfm13F",
        "outputId": "f9ef19bd-85ba-48a3-a543-7fe578b72945",
        "colab": {
          "base_uri": "https://localhost:8080/"
        }
      },
      "execution_count": null,
      "outputs": [
        {
          "output_type": "execute_result",
          "data": {
            "text/plain": [
              "np.int64(99)"
            ]
          },
          "metadata": {},
          "execution_count": 71
        }
      ]
    },
    {
      "cell_type": "code",
      "source": [
        "data.min()"
      ],
      "metadata": {
        "colab": {
          "base_uri": "https://localhost:8080/"
        },
        "id": "hx7-OYuIk8DH",
        "outputId": "940eb75b-32f0-4bf5-d72f-6fc71d1c3725"
      },
      "execution_count": null,
      "outputs": [
        {
          "output_type": "execute_result",
          "data": {
            "text/plain": [
              "np.int64(1)"
            ]
          },
          "metadata": {},
          "execution_count": 72
        }
      ]
    },
    {
      "cell_type": "code",
      "source": [
        "data.sum(axis=0).min()"
      ],
      "metadata": {
        "colab": {
          "base_uri": "https://localhost:8080/"
        },
        "id": "ftmR0cgGk8Gr",
        "outputId": "27886a37-c514-44d4-c2d4-8bf31ce3d031"
      },
      "execution_count": null,
      "outputs": [
        {
          "output_type": "execute_result",
          "data": {
            "text/plain": [
              "np.int64(752)"
            ]
          },
          "metadata": {},
          "execution_count": 76
        }
      ]
    },
    {
      "cell_type": "code",
      "source": [
        "data.sum(axis=0).max()"
      ],
      "metadata": {
        "id": "na62PxGrnCvY",
        "outputId": "1bb39b51-46c8-44dc-9220-1678afaae09c",
        "colab": {
          "base_uri": "https://localhost:8080/"
        }
      },
      "execution_count": null,
      "outputs": [
        {
          "output_type": "execute_result",
          "data": {
            "text/plain": [
              "np.int64(1221)"
            ]
          },
          "metadata": {},
          "execution_count": 77
        }
      ]
    },
    {
      "cell_type": "code",
      "source": [
        "data=np.random.randint(1,10,(5,5))"
      ],
      "metadata": {
        "id": "6y5iYAhynCxo"
      },
      "execution_count": null,
      "outputs": []
    },
    {
      "cell_type": "code",
      "source": [
        "data"
      ],
      "metadata": {
        "id": "3u6BFEzBnC08",
        "outputId": "90460bb1-c3b7-435c-e7b0-09ffeef45478",
        "colab": {
          "base_uri": "https://localhost:8080/"
        }
      },
      "execution_count": null,
      "outputs": [
        {
          "output_type": "execute_result",
          "data": {
            "text/plain": [
              "array([[5, 4, 8, 5, 8],\n",
              "       [8, 1, 1, 1, 6],\n",
              "       [7, 6, 4, 7, 7],\n",
              "       [4, 4, 2, 7, 8],\n",
              "       [1, 9, 8, 3, 4]])"
            ]
          },
          "metadata": {},
          "execution_count": 79
        }
      ]
    },
    {
      "cell_type": "code",
      "source": [
        "data.mean()"
      ],
      "metadata": {
        "id": "lDKkXYhOonNI",
        "outputId": "b0bae94c-36b6-40e6-8f55-f66da944b258",
        "colab": {
          "base_uri": "https://localhost:8080/"
        }
      },
      "execution_count": null,
      "outputs": [
        {
          "output_type": "execute_result",
          "data": {
            "text/plain": [
              "np.float64(5.12)"
            ]
          },
          "metadata": {},
          "execution_count": 80
        }
      ]
    },
    {
      "cell_type": "code",
      "source": [
        "np.median(data)"
      ],
      "metadata": {
        "id": "WjcsLbVoonQE",
        "outputId": "0a00fb1d-2b80-4dd4-8f86-90df98cd07c7",
        "colab": {
          "base_uri": "https://localhost:8080/"
        }
      },
      "execution_count": null,
      "outputs": [
        {
          "output_type": "execute_result",
          "data": {
            "text/plain": [
              "np.float64(5.0)"
            ]
          },
          "metadata": {},
          "execution_count": 82
        }
      ]
    },
    {
      "cell_type": "code",
      "source": [
        "data"
      ],
      "metadata": {
        "id": "ISxEMguQonSr",
        "outputId": "f4711401-f64b-4861-f7b1-4dc5745b0a06",
        "colab": {
          "base_uri": "https://localhost:8080/"
        }
      },
      "execution_count": null,
      "outputs": [
        {
          "output_type": "execute_result",
          "data": {
            "text/plain": [
              "array([[5, 4, 8, 5, 8],\n",
              "       [8, 1, 1, 1, 6],\n",
              "       [7, 6, 4, 7, 7],\n",
              "       [4, 4, 2, 7, 8],\n",
              "       [1, 9, 8, 3, 4]])"
            ]
          },
          "metadata": {},
          "execution_count": 83
        }
      ]
    },
    {
      "cell_type": "code",
      "source": [
        "np.quantile(data,0.25)"
      ],
      "metadata": {
        "id": "eismfddKonWK",
        "outputId": "3445a54a-0c5c-4e23-a606-6d9b2e51cda0",
        "colab": {
          "base_uri": "https://localhost:8080/"
        }
      },
      "execution_count": null,
      "outputs": [
        {
          "output_type": "execute_result",
          "data": {
            "text/plain": [
              "np.float64(4.0)"
            ]
          },
          "metadata": {},
          "execution_count": 84
        }
      ]
    },
    {
      "cell_type": "code",
      "source": [
        "np.quantile(data,0.50)"
      ],
      "metadata": {
        "id": "6QZlTez9o8rw",
        "outputId": "97bb4254-887c-4e3c-e7c8-38cae08e8b19",
        "colab": {
          "base_uri": "https://localhost:8080/"
        }
      },
      "execution_count": null,
      "outputs": [
        {
          "output_type": "execute_result",
          "data": {
            "text/plain": [
              "np.float64(5.0)"
            ]
          },
          "metadata": {},
          "execution_count": 85
        }
      ]
    },
    {
      "cell_type": "code",
      "source": [
        "np.quantile(data,0.75)"
      ],
      "metadata": {
        "id": "vUpJ7Vmyo8u8",
        "outputId": "d308c137-4c7d-4992-f280-b7c88c177204",
        "colab": {
          "base_uri": "https://localhost:8080/"
        }
      },
      "execution_count": null,
      "outputs": [
        {
          "output_type": "execute_result",
          "data": {
            "text/plain": [
              "np.float64(7.0)"
            ]
          },
          "metadata": {},
          "execution_count": 86
        }
      ]
    },
    {
      "cell_type": "code",
      "source": [
        "np.std(data)"
      ],
      "metadata": {
        "id": "2a1aVSjso8yT",
        "outputId": "6904e581-322e-43a0-8c8a-2c1b4bd741bf",
        "colab": {
          "base_uri": "https://localhost:8080/"
        }
      },
      "execution_count": null,
      "outputs": [
        {
          "output_type": "execute_result",
          "data": {
            "text/plain": [
              "np.float64(2.5348767228407776)"
            ]
          },
          "metadata": {},
          "execution_count": 88
        }
      ]
    },
    {
      "cell_type": "code",
      "source": [
        "np.var(data)"
      ],
      "metadata": {
        "id": "D0X2OKQBo83S",
        "outputId": "0b7b0666-43fa-47c1-e3fb-bfbe41fca9d8",
        "colab": {
          "base_uri": "https://localhost:8080/"
        }
      },
      "execution_count": null,
      "outputs": [
        {
          "output_type": "execute_result",
          "data": {
            "text/plain": [
              "np.float64(6.425599999999999)"
            ]
          },
          "metadata": {},
          "execution_count": 89
        }
      ]
    },
    {
      "cell_type": "code",
      "source": [
        "data=np.random.randint(1,10,10)"
      ],
      "metadata": {
        "id": "SB3mVkGLo86p"
      },
      "execution_count": null,
      "outputs": []
    },
    {
      "cell_type": "code",
      "source": [
        "data"
      ],
      "metadata": {
        "id": "h0Tq4-D5p6st",
        "outputId": "3d746bab-92b9-470e-d4de-41b228905217",
        "colab": {
          "base_uri": "https://localhost:8080/"
        }
      },
      "execution_count": null,
      "outputs": [
        {
          "output_type": "execute_result",
          "data": {
            "text/plain": [
              "array([5, 1, 5, 4, 2, 4, 9, 8, 2, 8])"
            ]
          },
          "metadata": {},
          "execution_count": 91
        }
      ]
    },
    {
      "cell_type": "code",
      "source": [
        "data.mean()"
      ],
      "metadata": {
        "id": "wNAZTm74p7AR",
        "outputId": "06b234eb-cd7f-4ea4-da8e-09ed8da34332",
        "colab": {
          "base_uri": "https://localhost:8080/"
        }
      },
      "execution_count": null,
      "outputs": [
        {
          "output_type": "execute_result",
          "data": {
            "text/plain": [
              "np.float64(4.8)"
            ]
          },
          "metadata": {},
          "execution_count": 92
        }
      ]
    },
    {
      "cell_type": "code",
      "source": [
        "data=np.random.randint(1,10,10)"
      ],
      "metadata": {
        "id": "dpMryiACp7Dp"
      },
      "execution_count": null,
      "outputs": []
    },
    {
      "cell_type": "code",
      "source": [
        "data"
      ],
      "metadata": {
        "id": "t6JoxIaVqagz",
        "outputId": "49d98fb0-20a1-4147-b019-5d2c2c40ce66",
        "colab": {
          "base_uri": "https://localhost:8080/"
        }
      },
      "execution_count": null,
      "outputs": [
        {
          "output_type": "execute_result",
          "data": {
            "text/plain": [
              "array([2, 4, 6, 6, 3, 1, 2, 3, 5, 8])"
            ]
          },
          "metadata": {},
          "execution_count": 94
        }
      ]
    },
    {
      "cell_type": "code",
      "source": [
        "np.corrcoef(data)"
      ],
      "metadata": {
        "id": "S1xXXlB5qaji",
        "outputId": "44ba33a0-c3ea-42b4-e5a6-72491774bec6",
        "colab": {
          "base_uri": "https://localhost:8080/"
        }
      },
      "execution_count": null,
      "outputs": [
        {
          "output_type": "execute_result",
          "data": {
            "text/plain": [
              "np.float64(1.0)"
            ]
          },
          "metadata": {},
          "execution_count": 95
        }
      ]
    },
    {
      "cell_type": "code",
      "source": [
        "np.corrcoef(data.T)"
      ],
      "metadata": {
        "id": "--e2H_g5qsoi",
        "outputId": "938bd14a-0106-4196-c61d-971363802372",
        "colab": {
          "base_uri": "https://localhost:8080/"
        }
      },
      "execution_count": null,
      "outputs": [
        {
          "output_type": "execute_result",
          "data": {
            "text/plain": [
              "np.float64(1.0)"
            ]
          },
          "metadata": {},
          "execution_count": 101
        }
      ]
    },
    {
      "cell_type": "code",
      "source": [
        "v1=np.arange(1,11)"
      ],
      "metadata": {
        "id": "yFNZXLrkqsrK"
      },
      "execution_count": null,
      "outputs": []
    },
    {
      "cell_type": "code",
      "source": [
        "v2=np.arange(10,20)"
      ],
      "metadata": {
        "id": "kX0Uq9MOqst0"
      },
      "execution_count": null,
      "outputs": []
    },
    {
      "cell_type": "code",
      "source": [
        "v1"
      ],
      "metadata": {
        "id": "cWOE71axqswM",
        "outputId": "97ae47fe-f4fd-446b-a049-72a5727c8b5f",
        "colab": {
          "base_uri": "https://localhost:8080/"
        }
      },
      "execution_count": null,
      "outputs": [
        {
          "output_type": "execute_result",
          "data": {
            "text/plain": [
              "array([ 1,  2,  3,  4,  5,  6,  7,  8,  9, 10])"
            ]
          },
          "metadata": {},
          "execution_count": 109
        }
      ]
    },
    {
      "cell_type": "code",
      "source": [
        "v2"
      ],
      "metadata": {
        "id": "RMwqtUz2qszg",
        "outputId": "cc6684ea-fe4e-4ab5-fdbb-33aed02b9019",
        "colab": {
          "base_uri": "https://localhost:8080/"
        }
      },
      "execution_count": null,
      "outputs": [
        {
          "output_type": "execute_result",
          "data": {
            "text/plain": [
              "array([10, 11, 12, 13, 14, 15, 16, 17, 18, 19])"
            ]
          },
          "metadata": {},
          "execution_count": 110
        }
      ]
    },
    {
      "cell_type": "code",
      "source": [
        "np.corrcoef(v1,v2)"
      ],
      "metadata": {
        "id": "1N-bnIfEsvee",
        "outputId": "a31b43b0-dbe7-496c-cd5f-b32fc7d0cfb7",
        "colab": {
          "base_uri": "https://localhost:8080/"
        }
      },
      "execution_count": null,
      "outputs": [
        {
          "output_type": "execute_result",
          "data": {
            "text/plain": [
              "array([[1., 1.],\n",
              "       [1., 1.]])"
            ]
          },
          "metadata": {},
          "execution_count": 114
        }
      ]
    },
    {
      "cell_type": "code",
      "source": [
        "### Descriptive statistics\n",
        "mean\n",
        "median\n",
        "max\n",
        "min\n",
        "std\n",
        "var\n",
        "range\n",
        "quantile\n",
        "q1\n",
        "q3"
      ],
      "metadata": {
        "id": "3YFfwI9lsvhU"
      },
      "execution_count": null,
      "outputs": []
    }
  ]
}
